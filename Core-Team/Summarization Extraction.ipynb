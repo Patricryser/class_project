{
 "cells": [
  {
   "cell_type": "code",
   "execution_count": 103,
   "metadata": {},
   "outputs": [],
   "source": [
    "import pandas as pd\n",
    "import numpy as np\n",
    "from datetime import datetime\n",
    "import pickle\n",
    "from operator import itemgetter\n",
    "from itertools import compress\n",
    "import matplotlib.pyplot as plt\n",
    "\n",
    "import regex as re"
   ]
  },
  {
   "cell_type": "code",
   "execution_count": 140,
   "metadata": {},
   "outputs": [],
   "source": [
    "with open('/Users/gabgilling/Dropbox/QMSS/Fall 2019/Practicum/df.pkl', 'rb') as f:\n",
    "    df2= pickle.load(f)"
   ]
  },
  {
   "cell_type": "code",
   "execution_count": 141,
   "metadata": {
    "collapsed": true
   },
   "outputs": [
    {
     "data": {
      "text/html": [
       "<div>\n",
       "<style scoped>\n",
       "    .dataframe tbody tr th:only-of-type {\n",
       "        vertical-align: middle;\n",
       "    }\n",
       "\n",
       "    .dataframe tbody tr th {\n",
       "        vertical-align: top;\n",
       "    }\n",
       "\n",
       "    .dataframe thead th {\n",
       "        text-align: right;\n",
       "    }\n",
       "</style>\n",
       "<table border=\"1\" class=\"dataframe\">\n",
       "  <thead>\n",
       "    <tr style=\"text-align: right;\">\n",
       "      <th></th>\n",
       "      <th>date_received</th>\n",
       "      <th>product</th>\n",
       "      <th>sub_product</th>\n",
       "      <th>issue</th>\n",
       "      <th>sub_issue</th>\n",
       "      <th>company</th>\n",
       "      <th>state</th>\n",
       "      <th>zip_code</th>\n",
       "      <th>consumer_consent_provided</th>\n",
       "      <th>submitted_via</th>\n",
       "      <th>date_sent_to_company</th>\n",
       "      <th>company_response</th>\n",
       "      <th>timely</th>\n",
       "      <th>consumer_disputed</th>\n",
       "      <th>complaint_id</th>\n",
       "      <th>tags</th>\n",
       "      <th>company_public_response</th>\n",
       "      <th>complaint_what_happened</th>\n",
       "      <th>processed</th>\n",
       "      <th>extracted</th>\n",
       "    </tr>\n",
       "  </thead>\n",
       "  <tbody>\n",
       "    <tr>\n",
       "      <td>0</td>\n",
       "      <td>2019-10-10T00:00:00.000</td>\n",
       "      <td>Credit reporting, credit repair services, or o...</td>\n",
       "      <td>Other personal consumer report</td>\n",
       "      <td>Incorrect information on your report</td>\n",
       "      <td>Public record information inaccurate</td>\n",
       "      <td>STERLING INFOSYSTEMS INC</td>\n",
       "      <td>CA</td>\n",
       "      <td>913XX</td>\n",
       "      <td>Consent provided</td>\n",
       "      <td>Web</td>\n",
       "      <td>2019-10-10T00:00:00.000</td>\n",
       "      <td>Closed with explanation</td>\n",
       "      <td>Yes</td>\n",
       "      <td>N/A</td>\n",
       "      <td>3401282</td>\n",
       "      <td>NaN</td>\n",
       "      <td>Company has responded to the consumer and the ...</td>\n",
       "      <td>I just recieved my background check tonight / ...</td>\n",
       "      <td>[recieved, background, check, simply, applying...</td>\n",
       "      <td>I feel that possibly someone is using my soci...</td>\n",
       "    </tr>\n",
       "    <tr>\n",
       "      <td>1</td>\n",
       "      <td>2019-10-10T00:00:00.000</td>\n",
       "      <td>Credit reporting, credit repair services, or o...</td>\n",
       "      <td>Credit reporting</td>\n",
       "      <td>Problem with a credit reporting company's inve...</td>\n",
       "      <td>Their investigation did not fix an error on yo...</td>\n",
       "      <td>TRANSUNION INTERMEDIATE HOLDINGS, INC.</td>\n",
       "      <td>VA</td>\n",
       "      <td>221XX</td>\n",
       "      <td>Consent provided</td>\n",
       "      <td>Web</td>\n",
       "      <td>2019-10-10T00:00:00.000</td>\n",
       "      <td>Closed with explanation</td>\n",
       "      <td>Yes</td>\n",
       "      <td>N/A</td>\n",
       "      <td>3401413</td>\n",
       "      <td>NaN</td>\n",
       "      <td>Company has responded to the consumer and the ...</td>\n",
       "      <td>I recently had 4 30-day late payments on my cr...</td>\n",
       "      <td>[recently, late, payment, credit, report, emai...</td>\n",
       "      <td>I recently had 4 30-day late payments on my cr...</td>\n",
       "    </tr>\n",
       "    <tr>\n",
       "      <td>2</td>\n",
       "      <td>2019-10-10T00:00:00.000</td>\n",
       "      <td>Payday loan, title loan, or personal loan</td>\n",
       "      <td>Installment loan</td>\n",
       "      <td>Charged fees or interest you didn't expect</td>\n",
       "      <td>NaN</td>\n",
       "      <td>Orions Management Group, LLC</td>\n",
       "      <td>UT</td>\n",
       "      <td>844XX</td>\n",
       "      <td>Consent provided</td>\n",
       "      <td>Web</td>\n",
       "      <td>2019-10-10T00:00:00.000</td>\n",
       "      <td>Closed with explanation</td>\n",
       "      <td>Yes</td>\n",
       "      <td>N/A</td>\n",
       "      <td>3401037</td>\n",
       "      <td>NaN</td>\n",
       "      <td>Company disputes the facts presented in the co...</td>\n",
       "      <td>This account was opened in  of 2015 fraudulent...</td>\n",
       "      <td>[account, fraudulently, identity, stolen, seve...</td>\n",
       "      <td>I asked them to provide me with paperwork tha...</td>\n",
       "    </tr>\n",
       "    <tr>\n",
       "      <td>3</td>\n",
       "      <td>2019-10-09T00:00:00.000</td>\n",
       "      <td>Debt collection</td>\n",
       "      <td>I do not know</td>\n",
       "      <td>Attempts to collect debt not owed</td>\n",
       "      <td>Debt was result of identity theft</td>\n",
       "      <td>Credit Protection Association, L.P.</td>\n",
       "      <td>SC</td>\n",
       "      <td>298XX</td>\n",
       "      <td>Consent provided</td>\n",
       "      <td>Web</td>\n",
       "      <td>2019-10-09T00:00:00.000</td>\n",
       "      <td>Closed with explanation</td>\n",
       "      <td>Yes</td>\n",
       "      <td>N/A</td>\n",
       "      <td>3399879</td>\n",
       "      <td>Servicemember</td>\n",
       "      <td>Company has responded to the consumer and the ...</td>\n",
       "      <td>I am a victim of identity theft and this debt ...</td>\n",
       "      <td>[victim, identity, theft, debt, belong, please...</td>\n",
       "      <td>I am a victim of identity theft and this debt ...</td>\n",
       "    </tr>\n",
       "    <tr>\n",
       "      <td>4</td>\n",
       "      <td>2019-10-09T00:00:00.000</td>\n",
       "      <td>Debt collection</td>\n",
       "      <td>Medical debt</td>\n",
       "      <td>Written notification about debt</td>\n",
       "      <td>Didn't receive enough information to verify debt</td>\n",
       "      <td>AmeriCollect</td>\n",
       "      <td>FL</td>\n",
       "      <td>334XX</td>\n",
       "      <td>Consent provided</td>\n",
       "      <td>Web</td>\n",
       "      <td>2019-10-09T00:00:00.000</td>\n",
       "      <td>Closed with explanation</td>\n",
       "      <td>Yes</td>\n",
       "      <td>N/A</td>\n",
       "      <td>3400783</td>\n",
       "      <td>NaN</td>\n",
       "      <td>Company believes it acted appropriately as aut...</td>\n",
       "      <td>When the original debtor    had this account I...</td>\n",
       "      <td>[original, debtor, account, even, touch, anyon...</td>\n",
       "      <td>This collection agency is not applying to the...</td>\n",
       "    </tr>\n",
       "  </tbody>\n",
       "</table>\n",
       "</div>"
      ],
      "text/plain": [
       "             date_received                                            product  \\\n",
       "0  2019-10-10T00:00:00.000  Credit reporting, credit repair services, or o...   \n",
       "1  2019-10-10T00:00:00.000  Credit reporting, credit repair services, or o...   \n",
       "2  2019-10-10T00:00:00.000          Payday loan, title loan, or personal loan   \n",
       "3  2019-10-09T00:00:00.000                                    Debt collection   \n",
       "4  2019-10-09T00:00:00.000                                    Debt collection   \n",
       "\n",
       "                      sub_product  \\\n",
       "0  Other personal consumer report   \n",
       "1                Credit reporting   \n",
       "2                Installment loan   \n",
       "3                   I do not know   \n",
       "4                    Medical debt   \n",
       "\n",
       "                                               issue  \\\n",
       "0               Incorrect information on your report   \n",
       "1  Problem with a credit reporting company's inve...   \n",
       "2         Charged fees or interest you didn't expect   \n",
       "3                  Attempts to collect debt not owed   \n",
       "4                    Written notification about debt   \n",
       "\n",
       "                                           sub_issue  \\\n",
       "0               Public record information inaccurate   \n",
       "1  Their investigation did not fix an error on yo...   \n",
       "2                                                NaN   \n",
       "3                  Debt was result of identity theft   \n",
       "4   Didn't receive enough information to verify debt   \n",
       "\n",
       "                                  company state zip_code  \\\n",
       "0                STERLING INFOSYSTEMS INC    CA    913XX   \n",
       "1  TRANSUNION INTERMEDIATE HOLDINGS, INC.    VA    221XX   \n",
       "2            Orions Management Group, LLC    UT    844XX   \n",
       "3     Credit Protection Association, L.P.    SC    298XX   \n",
       "4                            AmeriCollect    FL    334XX   \n",
       "\n",
       "  consumer_consent_provided submitted_via     date_sent_to_company  \\\n",
       "0          Consent provided           Web  2019-10-10T00:00:00.000   \n",
       "1          Consent provided           Web  2019-10-10T00:00:00.000   \n",
       "2          Consent provided           Web  2019-10-10T00:00:00.000   \n",
       "3          Consent provided           Web  2019-10-09T00:00:00.000   \n",
       "4          Consent provided           Web  2019-10-09T00:00:00.000   \n",
       "\n",
       "          company_response timely consumer_disputed complaint_id  \\\n",
       "0  Closed with explanation    Yes               N/A      3401282   \n",
       "1  Closed with explanation    Yes               N/A      3401413   \n",
       "2  Closed with explanation    Yes               N/A      3401037   \n",
       "3  Closed with explanation    Yes               N/A      3399879   \n",
       "4  Closed with explanation    Yes               N/A      3400783   \n",
       "\n",
       "            tags                            company_public_response  \\\n",
       "0            NaN  Company has responded to the consumer and the ...   \n",
       "1            NaN  Company has responded to the consumer and the ...   \n",
       "2            NaN  Company disputes the facts presented in the co...   \n",
       "3  Servicemember  Company has responded to the consumer and the ...   \n",
       "4            NaN  Company believes it acted appropriately as aut...   \n",
       "\n",
       "                             complaint_what_happened  \\\n",
       "0  I just recieved my background check tonight / ...   \n",
       "1  I recently had 4 30-day late payments on my cr...   \n",
       "2  This account was opened in  of 2015 fraudulent...   \n",
       "3  I am a victim of identity theft and this debt ...   \n",
       "4  When the original debtor    had this account I...   \n",
       "\n",
       "                                           processed  \\\n",
       "0  [recieved, background, check, simply, applying...   \n",
       "1  [recently, late, payment, credit, report, emai...   \n",
       "2  [account, fraudulently, identity, stolen, seve...   \n",
       "3  [victim, identity, theft, debt, belong, please...   \n",
       "4  [original, debtor, account, even, touch, anyon...   \n",
       "\n",
       "                                           extracted  \n",
       "0   I feel that possibly someone is using my soci...  \n",
       "1  I recently had 4 30-day late payments on my cr...  \n",
       "2   I asked them to provide me with paperwork tha...  \n",
       "3  I am a victim of identity theft and this debt ...  \n",
       "4   This collection agency is not applying to the...  "
      ]
     },
     "execution_count": 141,
     "metadata": {},
     "output_type": "execute_result"
    }
   ],
   "source": [
    "df2.head()"
   ]
  },
  {
   "cell_type": "code",
   "execution_count": 134,
   "metadata": {},
   "outputs": [],
   "source": [
    "df['extracted'] = ''"
   ]
  },
  {
   "cell_type": "markdown",
   "metadata": {},
   "source": [
    "## Word Embeddings approach\n",
    "\n",
    "inspired from: http://www.lumenai.fr/blog/quick-review-on-text-clustering-and-text-similarity-approaches"
   ]
  },
  {
   "cell_type": "code",
   "execution_count": 81,
   "metadata": {},
   "outputs": [],
   "source": [
    "from gensim.models import word2vec\n",
    "\n",
    "def w2v(s1,s2,wordmodel = wordmodel):\n",
    "    \n",
    "    s1words=s1.split()\n",
    "    s2words=s2.split()\n",
    "    s1wordsset=set(s1words)\n",
    "    s2wordsset=set(s2words)\n",
    "    vocab = wordmodel.vocab # the vocabulary considered in the word embeddings\n",
    "    \n",
    "    s1words = [word for word in s1words if word in vocab]\n",
    "    s2words = [word for word in s2words if word in vocab]\n",
    "    \n",
    "    if len(s1words) == 0: # sometimes we have an empty narrative, mitigate risk and assign 0 score\n",
    "        return 0\n",
    "\n",
    "    return wordmodel.n_similarity(s1words, s2words)\n"
   ]
  },
  {
   "cell_type": "code",
   "execution_count": 6,
   "metadata": {},
   "outputs": [
    {
     "data": {
      "text/plain": [
       "\"I just recieved my background check tonight / I simply was applying for a job at   and just recieved that I'm a   which is absolutely wrong. Which I wan na dispute and get rid of from my record. I feel that possibly someone is using my social or other information.\""
      ]
     },
     "execution_count": 6,
     "metadata": {},
     "output_type": "execute_result"
    }
   ],
   "source": [
    "df['complaint_what_happened'].iloc[0]"
   ]
  },
  {
   "cell_type": "code",
   "execution_count": 15,
   "metadata": {
    "scrolled": true
   },
   "outputs": [],
   "source": [
    "s1 = df['complaint_what_happened'].iloc[0].split('.')[0]"
   ]
  },
  {
   "cell_type": "code",
   "execution_count": 16,
   "metadata": {},
   "outputs": [],
   "source": [
    "s2 = df['issue'].iloc[0]"
   ]
  },
  {
   "cell_type": "code",
   "execution_count": 14,
   "metadata": {},
   "outputs": [],
   "source": [
    "wordmodelfile='https://s3.amazonaws.com/dl4j-distribution/GoogleNews-vectors-negative300.bin.gz'\n",
    "from gensim import models\n",
    "wordmodel=models.KeyedVectors.load_word2vec_format(wordmodelfile, binary=True)"
   ]
  },
  {
   "cell_type": "code",
   "execution_count": 45,
   "metadata": {},
   "outputs": [
    {
     "data": {
      "text/plain": [
       "0.40281254"
      ]
     },
     "execution_count": 45,
     "metadata": {},
     "output_type": "execute_result"
    }
   ],
   "source": [
    "w2v(s1,s2,wordmodel)"
   ]
  },
  {
   "cell_type": "code",
   "execution_count": 73,
   "metadata": {},
   "outputs": [
    {
     "name": "stdout",
     "output_type": "stream",
     "text": [
      "0.40281254\n",
      "0.34592712\n",
      "0.5486311\n"
     ]
    },
    {
     "data": {
      "text/plain": [
       "' I feel that possibly someone is using my social or other information'"
      ]
     },
     "execution_count": 73,
     "metadata": {},
     "output_type": "execute_result"
    }
   ],
   "source": [
    "scores = []\n",
    "for sent in df['complaint_what_happened'].iloc[0].split('.'):\n",
    "    if sent != '':\n",
    "        print(w2v(sent, s2))\n",
    "        scores.append(w2v(sent, s2))\n",
    "\n",
    "scores.index(max(scores))\n",
    "df['complaint_what_happened'].iloc[0].split('.')[scores.index(max(scores))]"
   ]
  },
  {
   "cell_type": "code",
   "execution_count": null,
   "metadata": {},
   "outputs": [],
   "source": []
  },
  {
   "cell_type": "code",
   "execution_count": 135,
   "metadata": {},
   "outputs": [],
   "source": [
    "split = df['complaint_what_happened'].apply(lambda x: [sent for sent in x.split('.') if sent != ''])"
   ]
  },
  {
   "cell_type": "code",
   "execution_count": null,
   "metadata": {},
   "outputs": [],
   "source": [
    "for i in range(len(df)):\n",
    "   # if i % 1000 == 0: # I use print statements to keep track of the progress of the algorithm\n",
    "     #   print(i)\n",
    "    scores = []\n",
    "    s2 = df['issue'].iloc[i]\n",
    "    for sent in split.iloc[i]:\n",
    "        scores.append(w2v(sent, s2))\n",
    "    try:\n",
    "        df['extracted'].iloc[i] = split.iloc[i][scores.index(max(scores))]\n",
    "    except:\n",
    "        print('Gotcha at loc: ' + str(i))"
   ]
  },
  {
   "cell_type": "code",
   "execution_count": 137,
   "metadata": {
    "collapsed": true
   },
   "outputs": [
    {
     "data": {
      "text/html": [
       "<div>\n",
       "<style scoped>\n",
       "    .dataframe tbody tr th:only-of-type {\n",
       "        vertical-align: middle;\n",
       "    }\n",
       "\n",
       "    .dataframe tbody tr th {\n",
       "        vertical-align: top;\n",
       "    }\n",
       "\n",
       "    .dataframe thead th {\n",
       "        text-align: right;\n",
       "    }\n",
       "</style>\n",
       "<table border=\"1\" class=\"dataframe\">\n",
       "  <thead>\n",
       "    <tr style=\"text-align: right;\">\n",
       "      <th></th>\n",
       "      <th>date_received</th>\n",
       "      <th>product</th>\n",
       "      <th>sub_product</th>\n",
       "      <th>issue</th>\n",
       "      <th>sub_issue</th>\n",
       "      <th>company</th>\n",
       "      <th>state</th>\n",
       "      <th>zip_code</th>\n",
       "      <th>consumer_consent_provided</th>\n",
       "      <th>submitted_via</th>\n",
       "      <th>date_sent_to_company</th>\n",
       "      <th>company_response</th>\n",
       "      <th>timely</th>\n",
       "      <th>consumer_disputed</th>\n",
       "      <th>complaint_id</th>\n",
       "      <th>tags</th>\n",
       "      <th>company_public_response</th>\n",
       "      <th>complaint_what_happened</th>\n",
       "      <th>processed</th>\n",
       "      <th>extracted</th>\n",
       "    </tr>\n",
       "  </thead>\n",
       "  <tbody>\n",
       "    <tr>\n",
       "      <td>0</td>\n",
       "      <td>2019-10-10T00:00:00.000</td>\n",
       "      <td>Credit reporting, credit repair services, or o...</td>\n",
       "      <td>Other personal consumer report</td>\n",
       "      <td>Incorrect information on your report</td>\n",
       "      <td>Public record information inaccurate</td>\n",
       "      <td>STERLING INFOSYSTEMS INC</td>\n",
       "      <td>CA</td>\n",
       "      <td>913XX</td>\n",
       "      <td>Consent provided</td>\n",
       "      <td>Web</td>\n",
       "      <td>2019-10-10T00:00:00.000</td>\n",
       "      <td>Closed with explanation</td>\n",
       "      <td>Yes</td>\n",
       "      <td>N/A</td>\n",
       "      <td>3401282</td>\n",
       "      <td>NaN</td>\n",
       "      <td>Company has responded to the consumer and the ...</td>\n",
       "      <td>I just recieved my background check tonight / ...</td>\n",
       "      <td>[recieved, background, check, simply, applying...</td>\n",
       "      <td>I feel that possibly someone is using my soci...</td>\n",
       "    </tr>\n",
       "    <tr>\n",
       "      <td>1</td>\n",
       "      <td>2019-10-10T00:00:00.000</td>\n",
       "      <td>Credit reporting, credit repair services, or o...</td>\n",
       "      <td>Credit reporting</td>\n",
       "      <td>Problem with a credit reporting company's inve...</td>\n",
       "      <td>Their investigation did not fix an error on yo...</td>\n",
       "      <td>TRANSUNION INTERMEDIATE HOLDINGS, INC.</td>\n",
       "      <td>VA</td>\n",
       "      <td>221XX</td>\n",
       "      <td>Consent provided</td>\n",
       "      <td>Web</td>\n",
       "      <td>2019-10-10T00:00:00.000</td>\n",
       "      <td>Closed with explanation</td>\n",
       "      <td>Yes</td>\n",
       "      <td>N/A</td>\n",
       "      <td>3401413</td>\n",
       "      <td>NaN</td>\n",
       "      <td>Company has responded to the consumer and the ...</td>\n",
       "      <td>I recently had 4 30-day late payments on my cr...</td>\n",
       "      <td>[recently, late, payment, credit, report, emai...</td>\n",
       "      <td>I recently had 4 30-day late payments on my cr...</td>\n",
       "    </tr>\n",
       "    <tr>\n",
       "      <td>2</td>\n",
       "      <td>2019-10-10T00:00:00.000</td>\n",
       "      <td>Payday loan, title loan, or personal loan</td>\n",
       "      <td>Installment loan</td>\n",
       "      <td>Charged fees or interest you didn't expect</td>\n",
       "      <td>NaN</td>\n",
       "      <td>Orions Management Group, LLC</td>\n",
       "      <td>UT</td>\n",
       "      <td>844XX</td>\n",
       "      <td>Consent provided</td>\n",
       "      <td>Web</td>\n",
       "      <td>2019-10-10T00:00:00.000</td>\n",
       "      <td>Closed with explanation</td>\n",
       "      <td>Yes</td>\n",
       "      <td>N/A</td>\n",
       "      <td>3401037</td>\n",
       "      <td>NaN</td>\n",
       "      <td>Company disputes the facts presented in the co...</td>\n",
       "      <td>This account was opened in  of 2015 fraudulent...</td>\n",
       "      <td>[account, fraudulently, identity, stolen, seve...</td>\n",
       "      <td>I asked them to provide me with paperwork tha...</td>\n",
       "    </tr>\n",
       "    <tr>\n",
       "      <td>3</td>\n",
       "      <td>2019-10-09T00:00:00.000</td>\n",
       "      <td>Debt collection</td>\n",
       "      <td>I do not know</td>\n",
       "      <td>Attempts to collect debt not owed</td>\n",
       "      <td>Debt was result of identity theft</td>\n",
       "      <td>Credit Protection Association, L.P.</td>\n",
       "      <td>SC</td>\n",
       "      <td>298XX</td>\n",
       "      <td>Consent provided</td>\n",
       "      <td>Web</td>\n",
       "      <td>2019-10-09T00:00:00.000</td>\n",
       "      <td>Closed with explanation</td>\n",
       "      <td>Yes</td>\n",
       "      <td>N/A</td>\n",
       "      <td>3399879</td>\n",
       "      <td>Servicemember</td>\n",
       "      <td>Company has responded to the consumer and the ...</td>\n",
       "      <td>I am a victim of identity theft and this debt ...</td>\n",
       "      <td>[victim, identity, theft, debt, belong, please...</td>\n",
       "      <td>I am a victim of identity theft and this debt ...</td>\n",
       "    </tr>\n",
       "    <tr>\n",
       "      <td>4</td>\n",
       "      <td>2019-10-09T00:00:00.000</td>\n",
       "      <td>Debt collection</td>\n",
       "      <td>Medical debt</td>\n",
       "      <td>Written notification about debt</td>\n",
       "      <td>Didn't receive enough information to verify debt</td>\n",
       "      <td>AmeriCollect</td>\n",
       "      <td>FL</td>\n",
       "      <td>334XX</td>\n",
       "      <td>Consent provided</td>\n",
       "      <td>Web</td>\n",
       "      <td>2019-10-09T00:00:00.000</td>\n",
       "      <td>Closed with explanation</td>\n",
       "      <td>Yes</td>\n",
       "      <td>N/A</td>\n",
       "      <td>3400783</td>\n",
       "      <td>NaN</td>\n",
       "      <td>Company believes it acted appropriately as aut...</td>\n",
       "      <td>When the original debtor    had this account I...</td>\n",
       "      <td>[original, debtor, account, even, touch, anyon...</td>\n",
       "      <td>This collection agency is not applying to the...</td>\n",
       "    </tr>\n",
       "  </tbody>\n",
       "</table>\n",
       "</div>"
      ],
      "text/plain": [
       "             date_received                                            product  \\\n",
       "0  2019-10-10T00:00:00.000  Credit reporting, credit repair services, or o...   \n",
       "1  2019-10-10T00:00:00.000  Credit reporting, credit repair services, or o...   \n",
       "2  2019-10-10T00:00:00.000          Payday loan, title loan, or personal loan   \n",
       "3  2019-10-09T00:00:00.000                                    Debt collection   \n",
       "4  2019-10-09T00:00:00.000                                    Debt collection   \n",
       "\n",
       "                      sub_product  \\\n",
       "0  Other personal consumer report   \n",
       "1                Credit reporting   \n",
       "2                Installment loan   \n",
       "3                   I do not know   \n",
       "4                    Medical debt   \n",
       "\n",
       "                                               issue  \\\n",
       "0               Incorrect information on your report   \n",
       "1  Problem with a credit reporting company's inve...   \n",
       "2         Charged fees or interest you didn't expect   \n",
       "3                  Attempts to collect debt not owed   \n",
       "4                    Written notification about debt   \n",
       "\n",
       "                                           sub_issue  \\\n",
       "0               Public record information inaccurate   \n",
       "1  Their investigation did not fix an error on yo...   \n",
       "2                                                NaN   \n",
       "3                  Debt was result of identity theft   \n",
       "4   Didn't receive enough information to verify debt   \n",
       "\n",
       "                                  company state zip_code  \\\n",
       "0                STERLING INFOSYSTEMS INC    CA    913XX   \n",
       "1  TRANSUNION INTERMEDIATE HOLDINGS, INC.    VA    221XX   \n",
       "2            Orions Management Group, LLC    UT    844XX   \n",
       "3     Credit Protection Association, L.P.    SC    298XX   \n",
       "4                            AmeriCollect    FL    334XX   \n",
       "\n",
       "  consumer_consent_provided submitted_via     date_sent_to_company  \\\n",
       "0          Consent provided           Web  2019-10-10T00:00:00.000   \n",
       "1          Consent provided           Web  2019-10-10T00:00:00.000   \n",
       "2          Consent provided           Web  2019-10-10T00:00:00.000   \n",
       "3          Consent provided           Web  2019-10-09T00:00:00.000   \n",
       "4          Consent provided           Web  2019-10-09T00:00:00.000   \n",
       "\n",
       "          company_response timely consumer_disputed complaint_id  \\\n",
       "0  Closed with explanation    Yes               N/A      3401282   \n",
       "1  Closed with explanation    Yes               N/A      3401413   \n",
       "2  Closed with explanation    Yes               N/A      3401037   \n",
       "3  Closed with explanation    Yes               N/A      3399879   \n",
       "4  Closed with explanation    Yes               N/A      3400783   \n",
       "\n",
       "            tags                            company_public_response  \\\n",
       "0            NaN  Company has responded to the consumer and the ...   \n",
       "1            NaN  Company has responded to the consumer and the ...   \n",
       "2            NaN  Company disputes the facts presented in the co...   \n",
       "3  Servicemember  Company has responded to the consumer and the ...   \n",
       "4            NaN  Company believes it acted appropriately as aut...   \n",
       "\n",
       "                             complaint_what_happened  \\\n",
       "0  I just recieved my background check tonight / ...   \n",
       "1  I recently had 4 30-day late payments on my cr...   \n",
       "2  This account was opened in  of 2015 fraudulent...   \n",
       "3  I am a victim of identity theft and this debt ...   \n",
       "4  When the original debtor    had this account I...   \n",
       "\n",
       "                                           processed  \\\n",
       "0  [recieved, background, check, simply, applying...   \n",
       "1  [recently, late, payment, credit, report, emai...   \n",
       "2  [account, fraudulently, identity, stolen, seve...   \n",
       "3  [victim, identity, theft, debt, belong, please...   \n",
       "4  [original, debtor, account, even, touch, anyon...   \n",
       "\n",
       "                                           extracted  \n",
       "0   I feel that possibly someone is using my soci...  \n",
       "1  I recently had 4 30-day late payments on my cr...  \n",
       "2   I asked them to provide me with paperwork tha...  \n",
       "3  I am a victim of identity theft and this debt ...  \n",
       "4   This collection agency is not applying to the...  "
      ]
     },
     "execution_count": 137,
     "metadata": {},
     "output_type": "execute_result"
    }
   ],
   "source": [
    "df.head()"
   ]
  },
  {
   "cell_type": "code",
   "execution_count": 96,
   "metadata": {},
   "outputs": [
    {
     "name": "stdout",
     "output_type": "stream",
     "text": [
      "Attempts to collect debt not owed\n",
      "I am a victim of identity theft and this debt does not belong to me\n"
     ]
    }
   ],
   "source": [
    "print(df['issue'].iloc[3])\n",
    "print(df['extracted'].iloc[3])"
   ]
  },
  {
   "cell_type": "code",
   "execution_count": 98,
   "metadata": {},
   "outputs": [
    {
     "name": "stdout",
     "output_type": "stream",
     "text": [
      "Struggling to pay your loan\n",
      "Victimized by predatory lending when purchased used car. My credit score was not even that low to merit a sub prime lender. The lender immediately started imputing fees and I got further and further behind. They called 10-20 times a day, seven days a week and when I asked them to stop but rather put it in writing they said I had a cease and desist order, of which I never did. They said I missed two payments ( $ /mo ) in the life of the loan and on / they repossessed my car. I purchased the car / for {$12000.00} and to date have paid more than {$10000.00}. According to the lender, because of the \" simple interest loan '' and my outrageous APR ( 25 % ) I still owe them {$11000.00} and now my credit is ruined and I have no car. HELP PLEASE!\n",
      " According to the lender, because of the \" simple interest loan '' and my outrageous APR ( 25 % ) I still owe them {$11000\n"
     ]
    }
   ],
   "source": [
    "print(df['issue'].iloc[83730])\n",
    "print(df['complaint_what_happened'].iloc[83730])"
   ]
  },
  {
   "cell_type": "markdown",
   "metadata": {},
   "source": [
    "As we can see, periods are included in the dollar amounts, causing the string to be split in the wrong locations. \n",
    "\n",
    "I use regex to substitute out the periods and the extra 00s with them too.\n",
    "\n",
    "Then I rerun the code with the updated narratives."
   ]
  },
  {
   "cell_type": "code",
   "execution_count": 130,
   "metadata": {},
   "outputs": [
    {
     "data": {
      "text/plain": [
       "'Victimized by predatory lending when purchased used car. My credit score was not even that low to merit a sub prime lender. The lender immediately started imputing fees and I got further and further behind. They called 10-20 times a day, seven days a week and when I asked them to stop but rather put it in writing they said I had a cease and desist order, of which I never did. They said I missed two payments ( $ /mo ) in the life of the loan and on / they repossessed my car. I purchased the car / for {$12000} and to date have paid more than {$10000}. According to the lender, because of the \" simple interest loan \\'\\' and my outrageous APR ( 25 % ) I still owe them {$11000} and now my credit is ruined and I have no car. HELP PLEASE!'"
      ]
     },
     "execution_count": 130,
     "metadata": {},
     "output_type": "execute_result"
    }
   ],
   "source": [
    "re.sub('\\.00', '', df['complaint_what_happened'].iloc[83730])"
   ]
  },
  {
   "cell_type": "code",
   "execution_count": 132,
   "metadata": {},
   "outputs": [],
   "source": [
    "# apply that to all rows in the narratives\n",
    "df['complaint_what_happened'] = df['complaint_what_happened'].apply(lambda x : re.sub('\\.00', '', x))"
   ]
  },
  {
   "cell_type": "code",
   "execution_count": 138,
   "metadata": {
    "collapsed": true
   },
   "outputs": [
    {
     "name": "stdout",
     "output_type": "stream",
     "text": [
      "Victimized by predatory lending when purchased used car. My credit score was not even that low to merit a sub prime lender. The lender immediately started imputing fees and I got further and further behind. They called 10-20 times a day, seven days a week and when I asked them to stop but rather put it in writing they said I had a cease and desist order, of which I never did. They said I missed two payments ( $ /mo ) in the life of the loan and on / they repossessed my car. I purchased the car / for {$12000} and to date have paid more than {$10000}. According to the lender, because of the \" simple interest loan '' and my outrageous APR ( 25 % ) I still owe them {$11000} and now my credit is ruined and I have no car. HELP PLEASE!\n"
     ]
    }
   ],
   "source": [
    "print(df['complaint_what_happened'].iloc[83730])"
   ]
  },
  {
   "cell_type": "code",
   "execution_count": 139,
   "metadata": {},
   "outputs": [],
   "source": [
    "#df.to_pickle('/Users/gabgilling/Dropbox/QMSS/Fall 2019/Practicum/df.pkl')"
   ]
  },
  {
   "cell_type": "code",
   "execution_count": null,
   "metadata": {},
   "outputs": [],
   "source": []
  }
 ],
 "metadata": {
  "kernelspec": {
   "display_name": "Python 3",
   "language": "python",
   "name": "python3"
  },
  "language_info": {
   "codemirror_mode": {
    "name": "ipython",
    "version": 3
   },
   "file_extension": ".py",
   "mimetype": "text/x-python",
   "name": "python",
   "nbconvert_exporter": "python",
   "pygments_lexer": "ipython3",
   "version": "3.7.4"
  }
 },
 "nbformat": 4,
 "nbformat_minor": 2
}
