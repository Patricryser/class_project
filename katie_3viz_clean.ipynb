{
 "cells": [
  {
   "cell_type": "code",
   "execution_count": 3,
   "metadata": {},
   "outputs": [],
   "source": [
    "import pandas as pd\n",
    "import numpy as np\n",
    "import pickle\n",
    "import seaborn as sns\n",
    "import matplotlib.pyplot as plt\n",
    "%matplotlib inline\n",
    "plt.style.use('ggplot')\n",
    "import matplotlib.patches as mpatches\n",
    "import geopandas\n",
    "# from plotnine import *"
   ]
  },
  {
   "cell_type": "markdown",
   "metadata": {},
   "source": [
    "# Load from CSV"
   ]
  },
  {
   "cell_type": "code",
   "execution_count": 2,
   "metadata": {},
   "outputs": [],
   "source": [
    "df = pd.read_csv(\"Consumer_Complaints.csv\", header=0, low_memory=False)"
   ]
  },
  {
   "cell_type": "code",
   "execution_count": 4,
   "metadata": {},
   "outputs": [
    {
     "data": {
      "text/html": [
       "<div>\n",
       "<style scoped>\n",
       "    .dataframe tbody tr th:only-of-type {\n",
       "        vertical-align: middle;\n",
       "    }\n",
       "\n",
       "    .dataframe tbody tr th {\n",
       "        vertical-align: top;\n",
       "    }\n",
       "\n",
       "    .dataframe thead th {\n",
       "        text-align: right;\n",
       "    }\n",
       "</style>\n",
       "<table border=\"1\" class=\"dataframe\">\n",
       "  <thead>\n",
       "    <tr style=\"text-align: right;\">\n",
       "      <th></th>\n",
       "      <th>Date received</th>\n",
       "      <th>Product</th>\n",
       "      <th>Sub-product</th>\n",
       "      <th>Issue</th>\n",
       "      <th>Sub-issue</th>\n",
       "      <th>Consumer complaint narrative</th>\n",
       "      <th>Company public response</th>\n",
       "      <th>Company</th>\n",
       "      <th>State</th>\n",
       "      <th>ZIP code</th>\n",
       "      <th>Tags</th>\n",
       "      <th>Consumer consent provided?</th>\n",
       "      <th>Submitted via</th>\n",
       "      <th>Date sent to company</th>\n",
       "      <th>Company response to consumer</th>\n",
       "      <th>Timely response?</th>\n",
       "      <th>Consumer disputed?</th>\n",
       "      <th>Complaint ID</th>\n",
       "    </tr>\n",
       "  </thead>\n",
       "  <tbody>\n",
       "    <tr>\n",
       "      <td>0</td>\n",
       "      <td>10/01/2019</td>\n",
       "      <td>Payday loan, title loan, or personal loan</td>\n",
       "      <td>Installment loan</td>\n",
       "      <td>Struggling to pay your loan</td>\n",
       "      <td>NaN</td>\n",
       "      <td>NaN</td>\n",
       "      <td>Company believes it acted appropriately as aut...</td>\n",
       "      <td>Atlas Credit Company, Inc.</td>\n",
       "      <td>TX</td>\n",
       "      <td>75703</td>\n",
       "      <td>NaN</td>\n",
       "      <td>Consent not provided</td>\n",
       "      <td>Web</td>\n",
       "      <td>10/01/2019</td>\n",
       "      <td>Closed with explanation</td>\n",
       "      <td>Yes</td>\n",
       "      <td>NaN</td>\n",
       "      <td>3391722</td>\n",
       "    </tr>\n",
       "    <tr>\n",
       "      <td>1</td>\n",
       "      <td>10/01/2019</td>\n",
       "      <td>Debt collection</td>\n",
       "      <td>Other debt</td>\n",
       "      <td>False statements or representation</td>\n",
       "      <td>Attempted to collect wrong amount</td>\n",
       "      <td>NaN</td>\n",
       "      <td>Company has responded to the consumer and the ...</td>\n",
       "      <td>ProCollect, Inc</td>\n",
       "      <td>TX</td>\n",
       "      <td>79936</td>\n",
       "      <td>Servicemember</td>\n",
       "      <td>Consent not provided</td>\n",
       "      <td>Web</td>\n",
       "      <td>10/01/2019</td>\n",
       "      <td>Closed with explanation</td>\n",
       "      <td>Yes</td>\n",
       "      <td>NaN</td>\n",
       "      <td>3391649</td>\n",
       "    </tr>\n",
       "    <tr>\n",
       "      <td>2</td>\n",
       "      <td>10/01/2019</td>\n",
       "      <td>Debt collection</td>\n",
       "      <td>Auto debt</td>\n",
       "      <td>Written notification about debt</td>\n",
       "      <td>Notification didn't disclose it was an attempt...</td>\n",
       "      <td>NaN</td>\n",
       "      <td>NaN</td>\n",
       "      <td>NAVY FEDERAL CREDIT UNION</td>\n",
       "      <td>CA</td>\n",
       "      <td>91915</td>\n",
       "      <td>NaN</td>\n",
       "      <td>NaN</td>\n",
       "      <td>Web</td>\n",
       "      <td>10/01/2019</td>\n",
       "      <td>In progress</td>\n",
       "      <td>Yes</td>\n",
       "      <td>NaN</td>\n",
       "      <td>3391379</td>\n",
       "    </tr>\n",
       "    <tr>\n",
       "      <td>3</td>\n",
       "      <td>10/01/2019</td>\n",
       "      <td>Credit reporting, credit repair services, or o...</td>\n",
       "      <td>Credit reporting</td>\n",
       "      <td>Incorrect information on your report</td>\n",
       "      <td>Account information incorrect</td>\n",
       "      <td>NaN</td>\n",
       "      <td>NaN</td>\n",
       "      <td>OKLAHOMA STUDENT LOAN AUTHORITY</td>\n",
       "      <td>IN</td>\n",
       "      <td>47130</td>\n",
       "      <td>NaN</td>\n",
       "      <td>NaN</td>\n",
       "      <td>Web</td>\n",
       "      <td>10/01/2019</td>\n",
       "      <td>Closed with explanation</td>\n",
       "      <td>Yes</td>\n",
       "      <td>NaN</td>\n",
       "      <td>3391378</td>\n",
       "    </tr>\n",
       "    <tr>\n",
       "      <td>4</td>\n",
       "      <td>10/01/2019</td>\n",
       "      <td>Debt collection</td>\n",
       "      <td>Medical debt</td>\n",
       "      <td>Attempts to collect debt not owed</td>\n",
       "      <td>Debt is not yours</td>\n",
       "      <td>NaN</td>\n",
       "      <td>Company disputes the facts presented in the co...</td>\n",
       "      <td>Eastern Account Systems of Connecticut, Inc.</td>\n",
       "      <td>CT</td>\n",
       "      <td>06401</td>\n",
       "      <td>NaN</td>\n",
       "      <td>Other</td>\n",
       "      <td>Web</td>\n",
       "      <td>10/01/2019</td>\n",
       "      <td>Closed with explanation</td>\n",
       "      <td>Yes</td>\n",
       "      <td>NaN</td>\n",
       "      <td>3391434</td>\n",
       "    </tr>\n",
       "  </tbody>\n",
       "</table>\n",
       "</div>"
      ],
      "text/plain": [
       "  Date received                                            Product  \\\n",
       "0    10/01/2019          Payday loan, title loan, or personal loan   \n",
       "1    10/01/2019                                    Debt collection   \n",
       "2    10/01/2019                                    Debt collection   \n",
       "3    10/01/2019  Credit reporting, credit repair services, or o...   \n",
       "4    10/01/2019                                    Debt collection   \n",
       "\n",
       "        Sub-product                                 Issue  \\\n",
       "0  Installment loan           Struggling to pay your loan   \n",
       "1        Other debt    False statements or representation   \n",
       "2         Auto debt       Written notification about debt   \n",
       "3  Credit reporting  Incorrect information on your report   \n",
       "4      Medical debt     Attempts to collect debt not owed   \n",
       "\n",
       "                                           Sub-issue  \\\n",
       "0                                                NaN   \n",
       "1                  Attempted to collect wrong amount   \n",
       "2  Notification didn't disclose it was an attempt...   \n",
       "3                      Account information incorrect   \n",
       "4                                  Debt is not yours   \n",
       "\n",
       "  Consumer complaint narrative  \\\n",
       "0                          NaN   \n",
       "1                          NaN   \n",
       "2                          NaN   \n",
       "3                          NaN   \n",
       "4                          NaN   \n",
       "\n",
       "                             Company public response  \\\n",
       "0  Company believes it acted appropriately as aut...   \n",
       "1  Company has responded to the consumer and the ...   \n",
       "2                                                NaN   \n",
       "3                                                NaN   \n",
       "4  Company disputes the facts presented in the co...   \n",
       "\n",
       "                                        Company State ZIP code           Tags  \\\n",
       "0                    Atlas Credit Company, Inc.    TX    75703            NaN   \n",
       "1                               ProCollect, Inc    TX    79936  Servicemember   \n",
       "2                     NAVY FEDERAL CREDIT UNION    CA    91915            NaN   \n",
       "3               OKLAHOMA STUDENT LOAN AUTHORITY    IN    47130            NaN   \n",
       "4  Eastern Account Systems of Connecticut, Inc.    CT    06401            NaN   \n",
       "\n",
       "  Consumer consent provided? Submitted via Date sent to company  \\\n",
       "0       Consent not provided           Web           10/01/2019   \n",
       "1       Consent not provided           Web           10/01/2019   \n",
       "2                        NaN           Web           10/01/2019   \n",
       "3                        NaN           Web           10/01/2019   \n",
       "4                      Other           Web           10/01/2019   \n",
       "\n",
       "  Company response to consumer Timely response? Consumer disputed?  \\\n",
       "0      Closed with explanation              Yes                NaN   \n",
       "1      Closed with explanation              Yes                NaN   \n",
       "2                  In progress              Yes                NaN   \n",
       "3      Closed with explanation              Yes                NaN   \n",
       "4      Closed with explanation              Yes                NaN   \n",
       "\n",
       "   Complaint ID  \n",
       "0       3391722  \n",
       "1       3391649  \n",
       "2       3391379  \n",
       "3       3391378  \n",
       "4       3391434  "
      ]
     },
     "execution_count": 4,
     "metadata": {},
     "output_type": "execute_result"
    }
   ],
   "source": [
    "df.head()"
   ]
  },
  {
   "cell_type": "code",
   "execution_count": 5,
   "metadata": {},
   "outputs": [
    {
     "data": {
      "text/plain": [
       "0.31909614132781633"
      ]
     },
     "execution_count": 5,
     "metadata": {},
     "output_type": "execute_result"
    }
   ],
   "source": [
    "len(df[~pd.isna(df['Consumer complaint narrative'])])/len(df)"
   ]
  },
  {
   "cell_type": "markdown",
   "metadata": {},
   "source": [
    "### insight: only 32% of the dataset has a consumer narrative\n",
    "- is there meaning in the complaints that lack narrative? what drives people to leave a detailed complaint?"
   ]
  },
  {
   "cell_type": "code",
   "execution_count": 6,
   "metadata": {},
   "outputs": [
    {
     "data": {
      "text/plain": [
       "Index(['Date received', 'Product', 'Sub-product', 'Issue', 'Sub-issue',\n",
       "       'Consumer complaint narrative', 'Company public response', 'Company',\n",
       "       'State', 'ZIP code', 'Tags', 'Consumer consent provided?',\n",
       "       'Submitted via', 'Date sent to company', 'Company response to consumer',\n",
       "       'Timely response?', 'Consumer disputed?', 'Complaint ID'],\n",
       "      dtype='object')"
      ]
     },
     "execution_count": 6,
     "metadata": {},
     "output_type": "execute_result"
    }
   ],
   "source": [
    "df.columns"
   ]
  },
  {
   "cell_type": "code",
   "execution_count": 7,
   "metadata": {},
   "outputs": [],
   "source": [
    "df.columns=['date_received', 'product', 'subproduct', 'issue', 'subissue',\n",
    "       'consumer_narrative', 'company_response', 'company',\n",
    "       'state', 'zip', 'tags', 'consumer_consent',\n",
    "       'submission_via', 'date2company', 'company_response',\n",
    "       'timely_response', 'consumer_disputed', 'complaint_id']"
   ]
  },
  {
   "cell_type": "code",
   "execution_count": 8,
   "metadata": {},
   "outputs": [],
   "source": [
    "df['has_narrative'] = (df[df.columns[5]].notnull()).astype(int)"
   ]
  },
  {
   "cell_type": "code",
   "execution_count": 12,
   "metadata": {},
   "outputs": [
    {
     "data": {
      "text/plain": [
       "<matplotlib.axes._subplots.AxesSubplot at 0x2258fe8b10>"
      ]
     },
     "execution_count": 12,
     "metadata": {},
     "output_type": "execute_result"
    },
    {
     "data": {
      "image/png": "[encoded data removed]",
      "text/plain": [
       "<Figure size 432x288 with 1 Axes>"
      ]
     },
     "metadata": {
      "needs_background": "light"
     },
     "output_type": "display_data"
    }
   ],
   "source": [
    "df.reset_index().groupby('consumer_consent')['complaint_id'].agg('count') \\\n",
    "    .sort_values(ascending=False).plot(kind='bar', title='Number of Complaints By Consumer Consent', y=\"Count\", rot=45)"
   ]
  },
  {
   "cell_type": "code",
   "execution_count": 18,
   "metadata": {},
   "outputs": [
    {
     "data": {
      "text/html": [
       "<div>\n",
       "<style scoped>\n",
       "    .dataframe tbody tr th:only-of-type {\n",
       "        vertical-align: middle;\n",
       "    }\n",
       "\n",
       "    .dataframe tbody tr th {\n",
       "        vertical-align: top;\n",
       "    }\n",
       "\n",
       "    .dataframe thead th {\n",
       "        text-align: right;\n",
       "    }\n",
       "</style>\n",
       "<table border=\"1\" class=\"dataframe\">\n",
       "  <thead>\n",
       "    <tr style=\"text-align: right;\">\n",
       "      <th></th>\n",
       "      <th>consumer_consent</th>\n",
       "      <th>complaint_id</th>\n",
       "    </tr>\n",
       "  </thead>\n",
       "  <tbody>\n",
       "    <tr>\n",
       "      <th>0</th>\n",
       "      <td>Consent provided</td>\n",
       "      <td>445926</td>\n",
       "    </tr>\n",
       "    <tr>\n",
       "      <th>1</th>\n",
       "      <td>Consent not provided</td>\n",
       "      <td>323584</td>\n",
       "    </tr>\n",
       "    <tr>\n",
       "      <th>2</th>\n",
       "      <td>Other</td>\n",
       "      <td>26124</td>\n",
       "    </tr>\n",
       "    <tr>\n",
       "      <th>3</th>\n",
       "      <td>Consent withdrawn</td>\n",
       "      <td>1325</td>\n",
       "    </tr>\n",
       "  </tbody>\n",
       "</table>\n",
       "</div>"
      ],
      "text/plain": [
       "       consumer_consent  complaint_id\n",
       "0      Consent provided        445926\n",
       "1  Consent not provided        323584\n",
       "2                 Other         26124\n",
       "3     Consent withdrawn          1325"
      ]
     },
     "execution_count": 18,
     "metadata": {},
     "output_type": "execute_result"
    }
   ],
   "source": [
    "consumer_consent_df"
   ]
  },
  {
   "cell_type": "code",
   "execution_count": 22,
   "metadata": {},
   "outputs": [
    {
     "data": {
      "text/plain": [
       "has_narrative  consumer_consent    \n",
       "0              Consent not provided    323584\n",
       "               Consent provided           336\n",
       "               Consent withdrawn         1325\n",
       "               Other                    26124\n",
       "1              Consent provided        445590\n",
       "Name: complaint_id, dtype: int64"
      ]
     },
     "execution_count": 22,
     "metadata": {},
     "output_type": "execute_result"
    }
   ],
   "source": [
    "df.groupby(['has_narrative', 'consumer_consent'])['complaint_id'].agg('count')"
   ]
  },
  {
   "cell_type": "markdown",
   "metadata": {},
   "source": [
    "### insight: complaints that have a narrative only when consent was provided"
   ]
  },
  {
   "cell_type": "code",
   "execution_count": 25,
   "metadata": {},
   "outputs": [
    {
     "data": {
      "text/plain": [
       "63"
      ]
     },
     "execution_count": 25,
     "metadata": {},
     "output_type": "execute_result"
    }
   ],
   "source": [
    "df['state'].nunique()"
   ]
  },
  {
   "cell_type": "code",
   "execution_count": 26,
   "metadata": {},
   "outputs": [
    {
     "data": {
      "text/plain": [
       "array(['TX', 'CA', 'IN', 'CT', 'GA', 'LA', 'PA', 'NH', 'DE', 'FL', 'WA',\n",
       "       nan, 'MS', 'AL', 'NY', 'MO', 'IL', 'NV', 'UT', 'OH', 'TN', 'AZ',\n",
       "       'SC', 'NM', 'ME', 'MD', 'OK', 'WI', 'DC', 'CO', 'NJ', 'NC', 'KS',\n",
       "       'MI', 'OR', 'KY', 'VA', 'PR', 'MA', 'WY', 'WV', 'MN', 'MT', 'AR',\n",
       "       'HI', 'SD', 'VT', 'IA', 'ID', 'NE', 'RI', 'ND', 'AP', 'AK',\n",
       "       'UNITED STATES MINOR OUTLYING ISLANDS', 'VI', 'AE', 'GU', 'AA',\n",
       "       'MP', 'MH', 'FM', 'AS', 'PW'], dtype=object)"
      ]
     },
     "execution_count": 26,
     "metadata": {},
     "output_type": "execute_result"
    }
   ],
   "source": [
    "df['state'].unique()"
   ]
  },
  {
   "cell_type": "markdown",
   "metadata": {},
   "source": [
    "### question: What or where are FM, PW, MP, MH? \n",
    "- answer: guam, marina islands, american samoa etc"
   ]
  },
  {
   "cell_type": "code",
   "execution_count": 121,
   "metadata": {},
   "outputs": [
    {
     "data": {
      "text/html": [
       "<div>\n",
       "<style scoped>\n",
       "    .dataframe tbody tr th:only-of-type {\n",
       "        vertical-align: middle;\n",
       "    }\n",
       "\n",
       "    .dataframe tbody tr th {\n",
       "        vertical-align: top;\n",
       "    }\n",
       "\n",
       "    .dataframe thead th {\n",
       "        text-align: right;\n",
       "    }\n",
       "</style>\n",
       "<table border=\"1\" class=\"dataframe\">\n",
       "  <thead>\n",
       "    <tr style=\"text-align: right;\">\n",
       "      <th></th>\n",
       "      <th>date_received</th>\n",
       "      <th>product</th>\n",
       "      <th>subproduct</th>\n",
       "      <th>issue</th>\n",
       "      <th>subissue</th>\n",
       "      <th>consumer_narrative</th>\n",
       "      <th>company_response</th>\n",
       "      <th>company</th>\n",
       "      <th>state</th>\n",
       "      <th>zip</th>\n",
       "      <th>tags</th>\n",
       "      <th>consumer_consent</th>\n",
       "      <th>submission_via</th>\n",
       "      <th>date2company</th>\n",
       "      <th>company_response</th>\n",
       "      <th>timely_response</th>\n",
       "      <th>consumer_disputed</th>\n",
       "      <th>complaint_id</th>\n",
       "      <th>has_narrative</th>\n",
       "    </tr>\n",
       "  </thead>\n",
       "  <tbody>\n",
       "    <tr>\n",
       "      <th>150708</th>\n",
       "      <td>03/14/2019</td>\n",
       "      <td>Credit reporting, credit repair services, or o...</td>\n",
       "      <td>Credit reporting</td>\n",
       "      <td>Incorrect information on your report</td>\n",
       "      <td>Information belongs to someone else</td>\n",
       "      <td>NaN</td>\n",
       "      <td>NaN</td>\n",
       "      <td>EQUIFAX, INC.</td>\n",
       "      <td>MP</td>\n",
       "      <td>96950</td>\n",
       "      <td>NaN</td>\n",
       "      <td>Consent not provided</td>\n",
       "      <td>Web</td>\n",
       "      <td>03/14/2019</td>\n",
       "      <td>Closed with explanation</td>\n",
       "      <td>Yes</td>\n",
       "      <td>NaN</td>\n",
       "      <td>3179193</td>\n",
       "      <td>0</td>\n",
       "    </tr>\n",
       "    <tr>\n",
       "      <th>150788</th>\n",
       "      <td>03/14/2019</td>\n",
       "      <td>Credit reporting, credit repair services, or o...</td>\n",
       "      <td>Credit reporting</td>\n",
       "      <td>Incorrect information on your report</td>\n",
       "      <td>Information belongs to someone else</td>\n",
       "      <td>NaN</td>\n",
       "      <td>NaN</td>\n",
       "      <td>TRANSWORLD SYSTEMS INC</td>\n",
       "      <td>MP</td>\n",
       "      <td>96950</td>\n",
       "      <td>NaN</td>\n",
       "      <td>Consent not provided</td>\n",
       "      <td>Web</td>\n",
       "      <td>03/14/2019</td>\n",
       "      <td>Closed with explanation</td>\n",
       "      <td>Yes</td>\n",
       "      <td>NaN</td>\n",
       "      <td>3179194</td>\n",
       "      <td>0</td>\n",
       "    </tr>\n",
       "    <tr>\n",
       "      <th>224401</th>\n",
       "      <td>11/21/2018</td>\n",
       "      <td>Debt collection</td>\n",
       "      <td>I do not know</td>\n",
       "      <td>Communication tactics</td>\n",
       "      <td>Called before 8am or after 9pm</td>\n",
       "      <td>NaN</td>\n",
       "      <td>Company can't verify or dispute the facts in t...</td>\n",
       "      <td>ERC</td>\n",
       "      <td>MP</td>\n",
       "      <td>96950</td>\n",
       "      <td>Servicemember</td>\n",
       "      <td>Consent not provided</td>\n",
       "      <td>Web</td>\n",
       "      <td>11/21/2018</td>\n",
       "      <td>Closed with explanation</td>\n",
       "      <td>Yes</td>\n",
       "      <td>NaN</td>\n",
       "      <td>3080064</td>\n",
       "      <td>0</td>\n",
       "    </tr>\n",
       "    <tr>\n",
       "      <th>641933</th>\n",
       "      <td>03/31/2017</td>\n",
       "      <td>Mortgage</td>\n",
       "      <td>Home equity loan or line of credit</td>\n",
       "      <td>Loan servicing, payments, escrow account</td>\n",
       "      <td>NaN</td>\n",
       "      <td>In XX/XX/2005 I obtained a home equity mortgag...</td>\n",
       "      <td>Company has responded to the consumer and the ...</td>\n",
       "      <td>BANK OF AMERICA, NATIONAL ASSOCIATION</td>\n",
       "      <td>MP</td>\n",
       "      <td>554XX</td>\n",
       "      <td>NaN</td>\n",
       "      <td>Consent provided</td>\n",
       "      <td>Web</td>\n",
       "      <td>04/03/2017</td>\n",
       "      <td>Closed with explanation</td>\n",
       "      <td>Yes</td>\n",
       "      <td>No</td>\n",
       "      <td>2412732</td>\n",
       "      <td>1</td>\n",
       "    </tr>\n",
       "    <tr>\n",
       "      <th>648508</th>\n",
       "      <td>03/21/2017</td>\n",
       "      <td>Debt collection</td>\n",
       "      <td>I do not know</td>\n",
       "      <td>Disclosure verification of debt</td>\n",
       "      <td>Not given enough info to verify debt</td>\n",
       "      <td>NaN</td>\n",
       "      <td>Company has responded to the consumer and the ...</td>\n",
       "      <td>ENCORE CAPITAL GROUP INC.</td>\n",
       "      <td>MP</td>\n",
       "      <td>63043</td>\n",
       "      <td>NaN</td>\n",
       "      <td>Consent not provided</td>\n",
       "      <td>Web</td>\n",
       "      <td>03/21/2017</td>\n",
       "      <td>Closed with non-monetary relief</td>\n",
       "      <td>Yes</td>\n",
       "      <td>No</td>\n",
       "      <td>2397378</td>\n",
       "      <td>0</td>\n",
       "    </tr>\n",
       "  </tbody>\n",
       "</table>\n",
       "</div>"
      ],
      "text/plain": [
       "       date_received                                            product  \\\n",
       "150708    03/14/2019  Credit reporting, credit repair services, or o...   \n",
       "150788    03/14/2019  Credit reporting, credit repair services, or o...   \n",
       "224401    11/21/2018                                    Debt collection   \n",
       "641933    03/31/2017                                           Mortgage   \n",
       "648508    03/21/2017                                    Debt collection   \n",
       "\n",
       "                                subproduct  \\\n",
       "150708                    Credit reporting   \n",
       "150788                    Credit reporting   \n",
       "224401                       I do not know   \n",
       "641933  Home equity loan or line of credit   \n",
       "648508                       I do not know   \n",
       "\n",
       "                                           issue  \\\n",
       "150708      Incorrect information on your report   \n",
       "150788      Incorrect information on your report   \n",
       "224401                     Communication tactics   \n",
       "641933  Loan servicing, payments, escrow account   \n",
       "648508           Disclosure verification of debt   \n",
       "\n",
       "                                    subissue  \\\n",
       "150708   Information belongs to someone else   \n",
       "150788   Information belongs to someone else   \n",
       "224401        Called before 8am or after 9pm   \n",
       "641933                                   NaN   \n",
       "648508  Not given enough info to verify debt   \n",
       "\n",
       "                                       consumer_narrative  \\\n",
       "150708                                                NaN   \n",
       "150788                                                NaN   \n",
       "224401                                                NaN   \n",
       "641933  In XX/XX/2005 I obtained a home equity mortgag...   \n",
       "648508                                                NaN   \n",
       "\n",
       "                                         company_response  \\\n",
       "150708                                                NaN   \n",
       "150788                                                NaN   \n",
       "224401  Company can't verify or dispute the facts in t...   \n",
       "641933  Company has responded to the consumer and the ...   \n",
       "648508  Company has responded to the consumer and the ...   \n",
       "\n",
       "                                      company state    zip           tags  \\\n",
       "150708                          EQUIFAX, INC.    MP  96950            NaN   \n",
       "150788                 TRANSWORLD SYSTEMS INC    MP  96950            NaN   \n",
       "224401                                    ERC    MP  96950  Servicemember   \n",
       "641933  BANK OF AMERICA, NATIONAL ASSOCIATION    MP  554XX            NaN   \n",
       "648508              ENCORE CAPITAL GROUP INC.    MP  63043            NaN   \n",
       "\n",
       "            consumer_consent submission_via date2company  \\\n",
       "150708  Consent not provided            Web   03/14/2019   \n",
       "150788  Consent not provided            Web   03/14/2019   \n",
       "224401  Consent not provided            Web   11/21/2018   \n",
       "641933      Consent provided            Web   04/03/2017   \n",
       "648508  Consent not provided            Web   03/21/2017   \n",
       "\n",
       "                       company_response timely_response consumer_disputed  \\\n",
       "150708          Closed with explanation             Yes               NaN   \n",
       "150788          Closed with explanation             Yes               NaN   \n",
       "224401          Closed with explanation             Yes               NaN   \n",
       "641933          Closed with explanation             Yes                No   \n",
       "648508  Closed with non-monetary relief             Yes                No   \n",
       "\n",
       "        complaint_id  has_narrative  \n",
       "150708       3179193              0  \n",
       "150788       3179194              0  \n",
       "224401       3080064              0  \n",
       "641933       2412732              1  \n",
       "648508       2397378              0  "
      ]
     },
     "execution_count": 121,
     "metadata": {},
     "output_type": "execute_result"
    }
   ],
   "source": [
    "df[df['state']=='MP'].head()"
   ]
  },
  {
   "cell_type": "code",
   "execution_count": 11,
   "metadata": {},
   "outputs": [
    {
     "data": {
      "text/plain": [
       "18"
      ]
     },
     "execution_count": 11,
     "metadata": {},
     "output_type": "execute_result"
    }
   ],
   "source": [
    "df['product'].nunique()"
   ]
  },
  {
   "cell_type": "code",
   "execution_count": 127,
   "metadata": {},
   "outputs": [
    {
     "name": "stdout",
     "output_type": "stream",
     "text": [
      "percentage null\n"
     ]
    },
    {
     "data": {
      "text/plain": [
       "date_received          0\n",
       "product                0\n",
       "subproduct            16\n",
       "issue                  0\n",
       "subissue              39\n",
       "consumer_narrative    68\n",
       "company_response      63\n",
       "company                0\n",
       "state                  1\n",
       "zip                    9\n",
       "tags                  86\n",
       "consumer_consent      42\n",
       "submission_via         0\n",
       "date2company           0\n",
       "company_response       0\n",
       "timely_response        0\n",
       "consumer_disputed     44\n",
       "complaint_id           0\n",
       "has_narrative          0\n",
       "dtype: int64"
      ]
     },
     "execution_count": 127,
     "metadata": {},
     "output_type": "execute_result"
    }
   ],
   "source": [
    "print(\"percentage null:\")\n",
    "(df.isna().sum()/df.shape[0]*100).astype(\"int\")    "
   ]
  },
  {
   "cell_type": "markdown",
   "metadata": {},
   "source": [
    "### insight: huge amounts of null in consumer narrative, company response, tags, consumer disputed, consumer consent"
   ]
  },
  {
   "cell_type": "markdown",
   "metadata": {},
   "source": [
    "### BEFORE RUNNING THE BELOW:\n",
    "very cpu intensive depending on your machine (took me 20 mins)"
   ]
  },
  {
   "cell_type": "code",
   "execution_count": 10,
   "metadata": {},
   "outputs": [
    {
     "data": {
      "text/plain": [
       "<matplotlib.legend.Legend at 0x1a39e4bc90>"
      ]
     },
     "execution_count": 10,
     "metadata": {},
     "output_type": "execute_result"
    },
    {
     "data": {
      "image/png": "[encoded data removed]",
      "text/plain": [
       "<Figure size 432x288 with 1 Axes>"
      ]
     },
     "metadata": {
      "needs_background": "light"
     },
     "output_type": "display_data"
    }
   ],
   "source": [
    "sns.heatmap(df.isnull(), cbar=False)\n",
    "plt.title(\"Missing Values in Complaints Dataset\")\n",
    "plt.xlabel(\"Columns\")\n",
    "plt.ylabel(\"Complaints (Rows)\")\n",
    "avail = mpatches.Patch(color='black', label='available data')\n",
    "missing = mpatches.Patch(color='beige', label='missing data')\n",
    "plt.legend(handles=[avail, missing])"
   ]
  },
  {
   "cell_type": "markdown",
   "metadata": {},
   "source": [
    "### insight: consumer disputed and subproduct very stark divide; my understanding is data is newest at the top \n",
    "does that mean something in this context?\n",
    "- did they stop keeping track of consumer dispute?\n",
    "- perhaps the pattern implies the consumer consent, narrative, and company resonse are newer vars since bottom quarter/third are completely missing\n",
    "- subproduct does allow for \"I don't know\"\n",
    "- tags almost completely missing. maybe only certain institutions include?"
   ]
  },
  {
   "cell_type": "code",
   "execution_count": 122,
   "metadata": {},
   "outputs": [
    {
     "data": {
      "text/plain": [
       "76"
      ]
     },
     "execution_count": 122,
     "metadata": {},
     "output_type": "execute_result"
    }
   ],
   "source": [
    "df['subproduct'].nunique()"
   ]
  },
  {
   "cell_type": "code",
   "execution_count": 123,
   "metadata": {},
   "outputs": [
    {
     "data": {
      "text/plain": [
       "6"
      ]
     },
     "execution_count": 123,
     "metadata": {},
     "output_type": "execute_result"
    }
   ],
   "source": [
    "df.submission_via.nunique()"
   ]
  },
  {
   "cell_type": "code",
   "execution_count": 124,
   "metadata": {},
   "outputs": [
    {
     "data": {
      "text/plain": [
       "array(['Web', 'Postal mail', 'Phone', 'Fax', 'Referral', 'Email'],\n",
       "      dtype=object)"
      ]
     },
     "execution_count": 124,
     "metadata": {},
     "output_type": "execute_result"
    }
   ],
   "source": [
    "df.submission_via.unique()"
   ]
  },
  {
   "cell_type": "code",
   "execution_count": 125,
   "metadata": {},
   "outputs": [
    {
     "data": {
      "text/plain": [
       "3"
      ]
     },
     "execution_count": 125,
     "metadata": {},
     "output_type": "execute_result"
    }
   ],
   "source": [
    "df.tags.nunique()"
   ]
  },
  {
   "cell_type": "code",
   "execution_count": 126,
   "metadata": {},
   "outputs": [
    {
     "data": {
      "text/plain": [
       "array([nan, 'Servicemember', 'Older American',\n",
       "       'Older American, Servicemember'], dtype=object)"
      ]
     },
     "execution_count": 126,
     "metadata": {},
     "output_type": "execute_result"
    }
   ],
   "source": [
    "df.tags.unique()"
   ]
  },
  {
   "cell_type": "markdown",
   "metadata": {},
   "source": [
    "### insight: tags refer to special clients"
   ]
  },
  {
   "cell_type": "code",
   "execution_count": 128,
   "metadata": {},
   "outputs": [
    {
     "data": {
      "text/plain": [
       "166"
      ]
     },
     "execution_count": 128,
     "metadata": {},
     "output_type": "execute_result"
    }
   ],
   "source": [
    "df.issue.nunique()"
   ]
  },
  {
   "cell_type": "code",
   "execution_count": 138,
   "metadata": {},
   "outputs": [
    {
     "data": {
      "text/plain": [
       "array(['Billing disputes', 'Credit line increase/decrease',\n",
       "       'Credit monitoring or identity protection',\n",
       "       'Identity theft / Fraud / Embezzlement',\n",
       "       'Problems when you are unable to pay',\n",
       "       'Taking/threatening an illegal action', 'Other fee',\n",
       "       'Incorrect/missing disclosures or info',\n",
       "       'Credit card protection / Debt protection',\n",
       "       'Taking out the loan or lease', \"Can't repay my loan\",\n",
       "       'Credit decision / Underwriting', \"Can't contact lender\",\n",
       "       'Managing, opening, or closing account', 'Transaction issue',\n",
       "       'Billing statement', 'Late fee', 'Shopping for a loan or lease',\n",
       "       'Improper use of my credit report', 'Rewards'], dtype=object)"
      ]
     },
     "execution_count": 138,
     "metadata": {},
     "output_type": "execute_result"
    }
   ],
   "source": [
    "df.issue.unique()[100:120]"
   ]
  },
  {
   "cell_type": "markdown",
   "metadata": {},
   "source": [
    "### insight: lots of duplicates in the issues\n"
   ]
  },
  {
   "cell_type": "code",
   "execution_count": 131,
   "metadata": {},
   "outputs": [
    {
     "data": {
      "text/plain": [
       "5417"
      ]
     },
     "execution_count": 131,
     "metadata": {},
     "output_type": "execute_result"
    }
   ],
   "source": [
    "df.company.nunique()"
   ]
  },
  {
   "cell_type": "markdown",
   "metadata": {},
   "source": [
    "### question: are any of the companies duplicates?"
   ]
  },
  {
   "cell_type": "code",
   "execution_count": null,
   "metadata": {},
   "outputs": [],
   "source": [
    "df.consumer_disputed.nunique()"
   ]
  },
  {
   "cell_type": "code",
   "execution_count": 1,
   "metadata": {},
   "outputs": [],
   "source": [
    "#df.company.unique()[:100]"
   ]
  },
  {
   "cell_type": "code",
   "execution_count": null,
   "metadata": {},
   "outputs": [],
   "source": []
  },
  {
   "cell_type": "markdown",
   "metadata": {},
   "source": [
    "# map\n",
    "\n",
    "shape file from: https://catalog.data.gov/dataset/tiger-line-shapefile-2017-nation-u-s-current-state-and-equivalent-national\n",
    "\n",
    "if find the right shape file, can get demographic info"
   ]
  },
  {
   "cell_type": "code",
   "execution_count": null,
   "metadata": {},
   "outputs": [],
   "source": []
  },
  {
   "cell_type": "code",
   "execution_count": 21,
   "metadata": {},
   "outputs": [],
   "source": [
    "by_state = df.groupby(['state'])['complaint_id'].agg('count')\n",
    "usa = usa.join(by_state, on='STUSPS')\n",
    "usa = geopandas.read_file(\"tl_2017_us_state/tl_2017_us_state.shp\")\n",
    "usa.rename(columns={'complaint_id':'complaints_count'}, inplace=True)"
   ]
  },
  {
   "cell_type": "code",
   "execution_count": 37,
   "metadata": {},
   "outputs": [
    {
     "data": {
      "text/html": [
       "<div>\n",
       "<style scoped>\n",
       "    .dataframe tbody tr th:only-of-type {\n",
       "        vertical-align: middle;\n",
       "    }\n",
       "\n",
       "    .dataframe tbody tr th {\n",
       "        vertical-align: top;\n",
       "    }\n",
       "\n",
       "    .dataframe thead th {\n",
       "        text-align: right;\n",
       "    }\n",
       "</style>\n",
       "<table border=\"1\" class=\"dataframe\">\n",
       "  <thead>\n",
       "    <tr style=\"text-align: right;\">\n",
       "      <th></th>\n",
       "      <th>REGION</th>\n",
       "      <th>DIVISION</th>\n",
       "      <th>STATEFP</th>\n",
       "      <th>STATENS</th>\n",
       "      <th>GEOID</th>\n",
       "      <th>STUSPS</th>\n",
       "      <th>NAME</th>\n",
       "      <th>LSAD</th>\n",
       "      <th>MTFCC</th>\n",
       "      <th>FUNCSTAT</th>\n",
       "      <th>ALAND</th>\n",
       "      <th>AWATER</th>\n",
       "      <th>INTPTLAT</th>\n",
       "      <th>INTPTLON</th>\n",
       "      <th>geometry</th>\n",
       "      <th>complaints_count</th>\n",
       "    </tr>\n",
       "  </thead>\n",
       "  <tbody>\n",
       "    <tr>\n",
       "      <td>0</td>\n",
       "      <td>3</td>\n",
       "      <td>5</td>\n",
       "      <td>54</td>\n",
       "      <td>01779805</td>\n",
       "      <td>54</td>\n",
       "      <td>WV</td>\n",
       "      <td>West Virginia</td>\n",
       "      <td>00</td>\n",
       "      <td>G4000</td>\n",
       "      <td>A</td>\n",
       "      <td>62265662566</td>\n",
       "      <td>489840834</td>\n",
       "      <td>+38.6472854</td>\n",
       "      <td>-080.6183274</td>\n",
       "      <td>POLYGON ((-81.747254 39.095379, -81.746354 39....</td>\n",
       "      <td>3211</td>\n",
       "    </tr>\n",
       "    <tr>\n",
       "      <td>1</td>\n",
       "      <td>3</td>\n",
       "      <td>5</td>\n",
       "      <td>12</td>\n",
       "      <td>00294478</td>\n",
       "      <td>12</td>\n",
       "      <td>FL</td>\n",
       "      <td>Florida</td>\n",
       "      <td>00</td>\n",
       "      <td>G4000</td>\n",
       "      <td>A</td>\n",
       "      <td>138911437206</td>\n",
       "      <td>31398800291</td>\n",
       "      <td>+28.4574302</td>\n",
       "      <td>-082.4091478</td>\n",
       "      <td>(POLYGON ((-82.987477 24.625379, -82.987477 24...</td>\n",
       "      <td>140589</td>\n",
       "    </tr>\n",
       "    <tr>\n",
       "      <td>2</td>\n",
       "      <td>2</td>\n",
       "      <td>3</td>\n",
       "      <td>17</td>\n",
       "      <td>01779784</td>\n",
       "      <td>17</td>\n",
       "      <td>IL</td>\n",
       "      <td>Illinois</td>\n",
       "      <td>00</td>\n",
       "      <td>G4000</td>\n",
       "      <td>A</td>\n",
       "      <td>143784114293</td>\n",
       "      <td>6211277447</td>\n",
       "      <td>+40.1028754</td>\n",
       "      <td>-089.1526108</td>\n",
       "      <td>POLYGON ((-91.185295 40.637803, -91.1751 40.64...</td>\n",
       "      <td>53741</td>\n",
       "    </tr>\n",
       "    <tr>\n",
       "      <td>3</td>\n",
       "      <td>2</td>\n",
       "      <td>4</td>\n",
       "      <td>27</td>\n",
       "      <td>00662849</td>\n",
       "      <td>27</td>\n",
       "      <td>MN</td>\n",
       "      <td>Minnesota</td>\n",
       "      <td>00</td>\n",
       "      <td>G4000</td>\n",
       "      <td>A</td>\n",
       "      <td>206229176104</td>\n",
       "      <td>18944967530</td>\n",
       "      <td>+46.3158148</td>\n",
       "      <td>-094.1996628</td>\n",
       "      <td>POLYGON ((-96.784381 46.63050399999999, -96.78...</td>\n",
       "      <td>14354</td>\n",
       "    </tr>\n",
       "    <tr>\n",
       "      <td>4</td>\n",
       "      <td>3</td>\n",
       "      <td>5</td>\n",
       "      <td>24</td>\n",
       "      <td>01714934</td>\n",
       "      <td>24</td>\n",
       "      <td>MD</td>\n",
       "      <td>Maryland</td>\n",
       "      <td>00</td>\n",
       "      <td>G4000</td>\n",
       "      <td>A</td>\n",
       "      <td>25150696145</td>\n",
       "      <td>6980371026</td>\n",
       "      <td>+38.9466584</td>\n",
       "      <td>-076.6744939</td>\n",
       "      <td>POLYGON ((-77.45880799999999 39.22027, -77.458...</td>\n",
       "      <td>38911</td>\n",
       "    </tr>\n",
       "  </tbody>\n",
       "</table>\n",
       "</div>"
      ],
      "text/plain": [
       "  REGION DIVISION STATEFP   STATENS GEOID STUSPS           NAME LSAD  MTFCC  \\\n",
       "0      3        5      54  01779805    54     WV  West Virginia   00  G4000   \n",
       "1      3        5      12  00294478    12     FL        Florida   00  G4000   \n",
       "2      2        3      17  01779784    17     IL       Illinois   00  G4000   \n",
       "3      2        4      27  00662849    27     MN      Minnesota   00  G4000   \n",
       "4      3        5      24  01714934    24     MD       Maryland   00  G4000   \n",
       "\n",
       "  FUNCSTAT         ALAND       AWATER     INTPTLAT      INTPTLON  \\\n",
       "0        A   62265662566    489840834  +38.6472854  -080.6183274   \n",
       "1        A  138911437206  31398800291  +28.4574302  -082.4091478   \n",
       "2        A  143784114293   6211277447  +40.1028754  -089.1526108   \n",
       "3        A  206229176104  18944967530  +46.3158148  -094.1996628   \n",
       "4        A   25150696145   6980371026  +38.9466584  -076.6744939   \n",
       "\n",
       "                                            geometry  complaints_count  \n",
       "0  POLYGON ((-81.747254 39.095379, -81.746354 39....              3211  \n",
       "1  (POLYGON ((-82.987477 24.625379, -82.987477 24...            140589  \n",
       "2  POLYGON ((-91.185295 40.637803, -91.1751 40.64...             53741  \n",
       "3  POLYGON ((-96.784381 46.63050399999999, -96.78...             14354  \n",
       "4  POLYGON ((-77.45880799999999 39.22027, -77.458...             38911  "
      ]
     },
     "execution_count": 37,
     "metadata": {},
     "output_type": "execute_result"
    }
   ],
   "source": [
    "usa.head()"
   ]
  },
  {
   "cell_type": "code",
   "execution_count": 48,
   "metadata": {},
   "outputs": [],
   "source": [
    "usa = usa[(usa.STUSPS != 'AS') &\n",
    "         (usa.STUSPS != 'PR') &\n",
    "         (usa.STUSPS != 'MP') &\n",
    "         (usa.STUSPS != 'GU') &\n",
    "         (usa.STUSPS != 'AK') &\n",
    "         (usa.STUSPS != 'HI') &\n",
    "         (usa.STUSPS != 'VI')]"
   ]
  },
  {
   "cell_type": "code",
   "execution_count": 71,
   "metadata": {},
   "outputs": [
    {
     "data": {
      "text/plain": [
       "Text(0.5, 1, 'Complaints by State')"
      ]
     },
     "execution_count": 71,
     "metadata": {},
     "output_type": "execute_result"
    },
    {
     "data": {
      "image/png": "[encoded data removed]",
      "text/plain": [
       "<Figure size 432x288 with 2 Axes>"
      ]
     },
     "metadata": {
      "needs_background": "light"
     },
     "output_type": "display_data"
    }
   ],
   "source": [
    "fig, ax = plt.subplots(1, 1)\n",
    "usa.plot(column=\"complaints_count\", ax=ax, legend=True)\n",
    "plt.title(\"Complaints by State\")"
   ]
  },
  {
   "cell_type": "markdown",
   "metadata": {},
   "source": [
    "### these happen to be the biggest states; should make complaints relative to population"
   ]
  },
  {
   "cell_type": "code",
   "execution_count": null,
   "metadata": {},
   "outputs": [],
   "source": []
  },
  {
   "cell_type": "code",
   "execution_count": null,
   "metadata": {},
   "outputs": [],
   "source": []
  }
 ],
 "metadata": {
  "kernelspec": {
   "display_name": "Python 3",
   "language": "python",
   "name": "python3"
  },
  "language_info": {
   "codemirror_mode": {
    "name": "ipython",
    "version": 3
   },
   "file_extension": ".py",
   "mimetype": "text/x-python",
   "name": "python",
   "nbconvert_exporter": "python",
   "pygments_lexer": "ipython3",
   "version": "3.7.4"
  }
 },
 "nbformat": 4,
 "nbformat_minor": 2
}
