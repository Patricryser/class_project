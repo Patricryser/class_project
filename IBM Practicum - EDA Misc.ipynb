{
 "cells": [
  {
   "cell_type": "markdown",
   "metadata": {},
   "source": [
    "### Import Relevant Libraries"
   ]
  },
  {
   "cell_type": "code",
   "execution_count": 252,
   "metadata": {},
   "outputs": [],
   "source": [
    "import numpy as np\n",
    "import pandas as pd\n",
    "import matplotlib.pyplot as plt\n",
    "from wordcloud import WordCloud\n",
    "import re\n",
    "import seaborn as sns\n",
    "sns.set()"
   ]
  },
  {
   "cell_type": "markdown",
   "metadata": {},
   "source": [
    "### Generate Master DF"
   ]
  },
  {
   "cell_type": "code",
   "execution_count": 2,
   "metadata": {},
   "outputs": [
    {
     "name": "stderr",
     "output_type": "stream",
     "text": [
      "/Users/seanmcalevey/anaconda3/lib/python3.7/site-packages/IPython/core/interactiveshell.py:3020: DtypeWarning: Columns (5,6,11,16) have mixed types. Specify dtype option on import or set low_memory=False.\n",
      "  interactivity=interactivity, compiler=compiler, result=result)\n"
     ]
    }
   ],
   "source": [
    "master_df = pd.read_csv('Consumer_Complaints.csv')"
   ]
  },
  {
   "cell_type": "code",
   "execution_count": 3,
   "metadata": {},
   "outputs": [
    {
     "data": {
      "text/html": [
       "<div>\n",
       "<style scoped>\n",
       "    .dataframe tbody tr th:only-of-type {\n",
       "        vertical-align: middle;\n",
       "    }\n",
       "\n",
       "    .dataframe tbody tr th {\n",
       "        vertical-align: top;\n",
       "    }\n",
       "\n",
       "    .dataframe thead th {\n",
       "        text-align: right;\n",
       "    }\n",
       "</style>\n",
       "<table border=\"1\" class=\"dataframe\">\n",
       "  <thead>\n",
       "    <tr style=\"text-align: right;\">\n",
       "      <th></th>\n",
       "      <th>Date received</th>\n",
       "      <th>Product</th>\n",
       "      <th>Sub-product</th>\n",
       "      <th>Issue</th>\n",
       "      <th>Sub-issue</th>\n",
       "      <th>Consumer complaint narrative</th>\n",
       "      <th>Company public response</th>\n",
       "      <th>Company</th>\n",
       "      <th>State</th>\n",
       "      <th>ZIP code</th>\n",
       "      <th>Tags</th>\n",
       "      <th>Consumer consent provided?</th>\n",
       "      <th>Submitted via</th>\n",
       "      <th>Date sent to company</th>\n",
       "      <th>Company response to consumer</th>\n",
       "      <th>Timely response?</th>\n",
       "      <th>Consumer disputed?</th>\n",
       "      <th>Complaint ID</th>\n",
       "    </tr>\n",
       "  </thead>\n",
       "  <tbody>\n",
       "    <tr>\n",
       "      <th>0</th>\n",
       "      <td>10/01/2019</td>\n",
       "      <td>Payday loan, title loan, or personal loan</td>\n",
       "      <td>Installment loan</td>\n",
       "      <td>Struggling to pay your loan</td>\n",
       "      <td>NaN</td>\n",
       "      <td>NaN</td>\n",
       "      <td>Company believes it acted appropriately as aut...</td>\n",
       "      <td>Atlas Credit Company, Inc.</td>\n",
       "      <td>TX</td>\n",
       "      <td>75703</td>\n",
       "      <td>NaN</td>\n",
       "      <td>Consent not provided</td>\n",
       "      <td>Web</td>\n",
       "      <td>10/01/2019</td>\n",
       "      <td>Closed with explanation</td>\n",
       "      <td>Yes</td>\n",
       "      <td>NaN</td>\n",
       "      <td>3391722</td>\n",
       "    </tr>\n",
       "    <tr>\n",
       "      <th>1</th>\n",
       "      <td>10/01/2019</td>\n",
       "      <td>Debt collection</td>\n",
       "      <td>Other debt</td>\n",
       "      <td>False statements or representation</td>\n",
       "      <td>Attempted to collect wrong amount</td>\n",
       "      <td>NaN</td>\n",
       "      <td>Company has responded to the consumer and the ...</td>\n",
       "      <td>ProCollect, Inc</td>\n",
       "      <td>TX</td>\n",
       "      <td>79936</td>\n",
       "      <td>Servicemember</td>\n",
       "      <td>Consent not provided</td>\n",
       "      <td>Web</td>\n",
       "      <td>10/01/2019</td>\n",
       "      <td>Closed with explanation</td>\n",
       "      <td>Yes</td>\n",
       "      <td>NaN</td>\n",
       "      <td>3391649</td>\n",
       "    </tr>\n",
       "    <tr>\n",
       "      <th>2</th>\n",
       "      <td>10/01/2019</td>\n",
       "      <td>Debt collection</td>\n",
       "      <td>Auto debt</td>\n",
       "      <td>Written notification about debt</td>\n",
       "      <td>Notification didn't disclose it was an attempt...</td>\n",
       "      <td>NaN</td>\n",
       "      <td>NaN</td>\n",
       "      <td>NAVY FEDERAL CREDIT UNION</td>\n",
       "      <td>CA</td>\n",
       "      <td>91915</td>\n",
       "      <td>NaN</td>\n",
       "      <td>NaN</td>\n",
       "      <td>Web</td>\n",
       "      <td>10/01/2019</td>\n",
       "      <td>In progress</td>\n",
       "      <td>Yes</td>\n",
       "      <td>NaN</td>\n",
       "      <td>3391379</td>\n",
       "    </tr>\n",
       "    <tr>\n",
       "      <th>3</th>\n",
       "      <td>10/01/2019</td>\n",
       "      <td>Credit reporting, credit repair services, or o...</td>\n",
       "      <td>Credit reporting</td>\n",
       "      <td>Incorrect information on your report</td>\n",
       "      <td>Account information incorrect</td>\n",
       "      <td>NaN</td>\n",
       "      <td>NaN</td>\n",
       "      <td>OKLAHOMA STUDENT LOAN AUTHORITY</td>\n",
       "      <td>IN</td>\n",
       "      <td>47130</td>\n",
       "      <td>NaN</td>\n",
       "      <td>NaN</td>\n",
       "      <td>Web</td>\n",
       "      <td>10/01/2019</td>\n",
       "      <td>Closed with explanation</td>\n",
       "      <td>Yes</td>\n",
       "      <td>NaN</td>\n",
       "      <td>3391378</td>\n",
       "    </tr>\n",
       "    <tr>\n",
       "      <th>4</th>\n",
       "      <td>10/01/2019</td>\n",
       "      <td>Debt collection</td>\n",
       "      <td>Medical debt</td>\n",
       "      <td>Attempts to collect debt not owed</td>\n",
       "      <td>Debt is not yours</td>\n",
       "      <td>NaN</td>\n",
       "      <td>Company disputes the facts presented in the co...</td>\n",
       "      <td>Eastern Account Systems of Connecticut, Inc.</td>\n",
       "      <td>CT</td>\n",
       "      <td>06401</td>\n",
       "      <td>NaN</td>\n",
       "      <td>Other</td>\n",
       "      <td>Web</td>\n",
       "      <td>10/01/2019</td>\n",
       "      <td>Closed with explanation</td>\n",
       "      <td>Yes</td>\n",
       "      <td>NaN</td>\n",
       "      <td>3391434</td>\n",
       "    </tr>\n",
       "  </tbody>\n",
       "</table>\n",
       "</div>"
      ],
      "text/plain": [
       "  Date received                                            Product  \\\n",
       "0    10/01/2019          Payday loan, title loan, or personal loan   \n",
       "1    10/01/2019                                    Debt collection   \n",
       "2    10/01/2019                                    Debt collection   \n",
       "3    10/01/2019  Credit reporting, credit repair services, or o...   \n",
       "4    10/01/2019                                    Debt collection   \n",
       "\n",
       "        Sub-product                                 Issue  \\\n",
       "0  Installment loan           Struggling to pay your loan   \n",
       "1        Other debt    False statements or representation   \n",
       "2         Auto debt       Written notification about debt   \n",
       "3  Credit reporting  Incorrect information on your report   \n",
       "4      Medical debt     Attempts to collect debt not owed   \n",
       "\n",
       "                                           Sub-issue  \\\n",
       "0                                                NaN   \n",
       "1                  Attempted to collect wrong amount   \n",
       "2  Notification didn't disclose it was an attempt...   \n",
       "3                      Account information incorrect   \n",
       "4                                  Debt is not yours   \n",
       "\n",
       "  Consumer complaint narrative  \\\n",
       "0                          NaN   \n",
       "1                          NaN   \n",
       "2                          NaN   \n",
       "3                          NaN   \n",
       "4                          NaN   \n",
       "\n",
       "                             Company public response  \\\n",
       "0  Company believes it acted appropriately as aut...   \n",
       "1  Company has responded to the consumer and the ...   \n",
       "2                                                NaN   \n",
       "3                                                NaN   \n",
       "4  Company disputes the facts presented in the co...   \n",
       "\n",
       "                                        Company State ZIP code           Tags  \\\n",
       "0                    Atlas Credit Company, Inc.    TX    75703            NaN   \n",
       "1                               ProCollect, Inc    TX    79936  Servicemember   \n",
       "2                     NAVY FEDERAL CREDIT UNION    CA    91915            NaN   \n",
       "3               OKLAHOMA STUDENT LOAN AUTHORITY    IN    47130            NaN   \n",
       "4  Eastern Account Systems of Connecticut, Inc.    CT    06401            NaN   \n",
       "\n",
       "  Consumer consent provided? Submitted via Date sent to company  \\\n",
       "0       Consent not provided           Web           10/01/2019   \n",
       "1       Consent not provided           Web           10/01/2019   \n",
       "2                        NaN           Web           10/01/2019   \n",
       "3                        NaN           Web           10/01/2019   \n",
       "4                      Other           Web           10/01/2019   \n",
       "\n",
       "  Company response to consumer Timely response? Consumer disputed?  \\\n",
       "0      Closed with explanation              Yes                NaN   \n",
       "1      Closed with explanation              Yes                NaN   \n",
       "2                  In progress              Yes                NaN   \n",
       "3      Closed with explanation              Yes                NaN   \n",
       "4      Closed with explanation              Yes                NaN   \n",
       "\n",
       "   Complaint ID  \n",
       "0       3391722  \n",
       "1       3391649  \n",
       "2       3391379  \n",
       "3       3391378  \n",
       "4       3391434  "
      ]
     },
     "execution_count": 3,
     "metadata": {},
     "output_type": "execute_result"
    }
   ],
   "source": [
    "master_df.head()"
   ]
  },
  {
   "cell_type": "markdown",
   "metadata": {},
   "source": [
    "### Import TfidfVectorizer to get Word Vectors for Every Issue"
   ]
  },
  {
   "cell_type": "code",
   "execution_count": 4,
   "metadata": {},
   "outputs": [],
   "source": [
    "from sklearn.feature_extraction.text import TfidfVectorizer"
   ]
  },
  {
   "cell_type": "code",
   "execution_count": 5,
   "metadata": {},
   "outputs": [],
   "source": [
    "vectorizer = TfidfVectorizer(stop_words='english')"
   ]
  },
  {
   "cell_type": "code",
   "execution_count": 6,
   "metadata": {},
   "outputs": [],
   "source": [
    "response = vectorizer.fit_transform(master_df.Issue.unique())"
   ]
  },
  {
   "cell_type": "code",
   "execution_count": 7,
   "metadata": {},
   "outputs": [],
   "source": [
    "vec_df = pd.DataFrame(response.toarray(), columns=vectorizer.get_feature_names())"
   ]
  },
  {
   "cell_type": "markdown",
   "metadata": {},
   "source": [
    "### Import PCA to reduce dimensionality for proper clustering"
   ]
  },
  {
   "cell_type": "code",
   "execution_count": 8,
   "metadata": {},
   "outputs": [],
   "source": [
    "from sklearn.decomposition import PCA"
   ]
  },
  {
   "cell_type": "code",
   "execution_count": 9,
   "metadata": {},
   "outputs": [],
   "source": [
    "explained_variance = []\n",
    "\n",
    "for component in range(100,2,-1):\n",
    "    \n",
    "    n_components = component\n",
    "\n",
    "    vectors = vec_df.values\n",
    "\n",
    "    pca = PCA(n_components)\n",
    "\n",
    "    dim_reduction = pca.fit_transform(vectors)\n",
    "\n",
    "    explained_variance.append(sum(pca.explained_variance_ratio_)*100)"
   ]
  },
  {
   "cell_type": "code",
   "execution_count": 10,
   "metadata": {},
   "outputs": [
    {
     "name": "stdout",
     "output_type": "stream",
     "text": [
      "71.492 %\n"
     ]
    }
   ],
   "source": [
    "n_components = 50\n",
    "\n",
    "vectors = vec_df.values\n",
    "\n",
    "pca = PCA(n_components)\n",
    "\n",
    "dim_reduction = pca.fit_transform(vectors)\n",
    "\n",
    "explained_var = round(100*sum(pca.explained_variance_ratio_), 3)\n",
    "\n",
    "print(explained_var, '%')"
   ]
  },
  {
   "cell_type": "markdown",
   "metadata": {},
   "source": [
    "### Import KMeans to Cluster the Reduced Vectors"
   ]
  },
  {
   "cell_type": "code",
   "execution_count": 11,
   "metadata": {},
   "outputs": [],
   "source": [
    "from sklearn.cluster import KMeans"
   ]
  },
  {
   "cell_type": "code",
   "execution_count": 12,
   "metadata": {},
   "outputs": [],
   "source": [
    "cluster_score = []\n",
    "\n",
    "for cluster in range(20,2,-1):\n",
    "    \n",
    "    num_clusters = cluster\n",
    "    \n",
    "    kmeans = KMeans()\n",
    "    \n",
    "    clusters = kmeans.fit_predict(dim_reduction)\n",
    "    \n",
    "    cluster_score.append((cluster, kmeans.inertia_))"
   ]
  },
  {
   "cell_type": "code",
   "execution_count": 128,
   "metadata": {},
   "outputs": [
    {
     "name": "stdout",
     "output_type": "stream",
     "text": [
      "[ 5 23 23 23 17 29 23  7  9 10  1 16 11 23 14  0  5 23  4 16 23  8  4 21\n",
      " 12  6  4 29 20  7  4 10  7  8  6 14 23  0 15 27 12  4  2 23 23  0 14 11\n",
      " 22  4  5 23 20  6 24 23 24  8  2 27  8 26 15 21 28 26 20  6 22 23  0 28\n",
      " 11 23 25 10 23 19 10  6 18 18 27  4  6 23  2  2 20 14  3 23 21 29 17 23\n",
      "  9 23 14  4 10  6 24 12 23 23 13  1 24  7  8  6 21  4 16 10 13  7  6 19\n",
      " 23  6 23  6 11 16  0 11  1 26 15 23 16 22  6  2 15 28 15 23 13  8 14  2\n",
      "  2 23 23 23 23  6  6 23  0 23 13 19 25  0 25 22 18 18  8  3  3 29]\n"
     ]
    }
   ],
   "source": [
    "num_clusters = 30\n",
    "\n",
    "n_init = 500\n",
    "    \n",
    "kmeans = KMeans(num_clusters, n_init=n_init, random_state=18)\n",
    "    \n",
    "clusters = kmeans.fit_predict(dim_reduction)\n",
    "\n",
    "print(clusters)"
   ]
  },
  {
   "cell_type": "code",
   "execution_count": 129,
   "metadata": {},
   "outputs": [],
   "source": [
    "cluster_df = pd.DataFrame(clusters)\n",
    "\n",
    "cluster_df['Issue'] = master_df.Issue.unique()"
   ]
  },
  {
   "cell_type": "code",
   "execution_count": 130,
   "metadata": {},
   "outputs": [],
   "source": [
    "cluster_df.columns = ['Cluster', 'Issue']"
   ]
  },
  {
   "cell_type": "code",
   "execution_count": 131,
   "metadata": {},
   "outputs": [],
   "source": [
    "cluster_df = cluster_df.sort_values('Cluster')"
   ]
  },
  {
   "cell_type": "markdown",
   "metadata": {},
   "source": [
    "### Snapshot of Clusters with Issue and Value Counts"
   ]
  },
  {
   "cell_type": "code",
   "execution_count": 134,
   "metadata": {
    "collapsed": true
   },
   "outputs": [
    {
     "name": "stdout",
     "output_type": "stream",
     "text": [
      "     Cluster                                     Issue\n",
      "70         0                            Excessive fees\n",
      "126        0  Charged fees or interest I didn't expect\n",
      "15         0                  Unexpected or other fees 7\n",
      "     Cluster                                  Issue\n",
      "10         1       Confusing or missing disclosures\n",
      "128        1                            Disclosures\n",
      "107        1  Incorrect/missing disclosures or info 3\n",
      "     Cluster                                              Issue\n",
      "42         2  Problem with a lender or other company chargin...\n",
      "58         2      Can't stop withdrawals from your bank account\n",
      "143        2                          Account terms and changes 7\n",
      "     Cluster                                     Issue\n",
      "90         3  Loan modification,collection,foreclosure\n",
      "164        3                   Collection debt dispute\n",
      "163        3                      Collection practices 3\n",
      "    Cluster                 Issue\n",
      "41        4    Closing an account\n",
      "26        4  Closing your account\n",
      "30        4    Opening an account 9\n",
      "    Cluster                        Issue\n",
      "0         5  Struggling to pay your loan\n",
      "50        5  Struggling to pay your bill\n",
      "16        5   Struggling to pay mortgage 3\n",
      "     Cluster                                     Issue\n",
      "121        6  Unable to get credit report/credit score\n",
      "118        6          Improper use of my credit report\n",
      "53         6                     Getting a credit card 14\n",
      "     Cluster                         Issue\n",
      "7          7    Managing the loan or lease\n",
      "109        7  Taking out the loan or lease\n",
      "117        7  Shopping for a loan or lease 5\n",
      "     Cluster                               Issue\n",
      "57         8                    Getting the loan\n",
      "60         8                      Getting a loan\n",
      "141        8  Received a loan I didn't apply for 7\n",
      "    Cluster                                   Issue\n",
      "96        9   Problems caused by my funds being low\n",
      "8         9  Problem caused by your funds being low 2\n",
      "    Cluster                                Issue\n",
      "31       10  Problem with a purchase or transfer\n",
      "75       10            Problem with an overdraft\n",
      "78       10               Problem with overdraft 6\n",
      "     Cluster                                             Issue\n",
      "124       11                         Advertising and marketing\n",
      "127       11             Advertising, marketing or disclosures\n",
      "12        11  Confusing or misleading advertising or marketing 5\n",
      "     Cluster                                          Issue\n",
      "103       12          Identity theft / Fraud / Embezzlement\n",
      "40        12  Problem with fraud alerts or security freezes\n",
      "24        12                                  Fraud or scam 3\n",
      "     Cluster                 Issue\n",
      "140       13  Balance transfer fee\n",
      "116       13              Late fee\n",
      "106       13             Other fee 4\n",
      "    Cluster                                              Issue\n",
      "98       14                                     Payoff process\n",
      "35       14  Problem with the payoff process at the end of ...\n",
      "89       14                       Settlement process and costs 6\n",
      "     Cluster                                  Issue\n",
      "136       15                   Other service issues\n",
      "138       15  Customer service / Customer relations\n",
      "130       15    Customer service/Customer relations 5\n",
      "     Cluster                                    Issue\n",
      "11        16                Other transaction problem\n",
      "114       16                        Transaction issue\n",
      "125       16  Unauthorized transactions/trans. issues 5\n",
      "    Cluster                                  Issue\n",
      "94       17  Cont'd attempts collect debt not owed\n",
      "4        17      Attempts to collect debt not owed 2\n",
      "     Cluster                                 Issue\n",
      "161       18              Lender sold the property\n",
      "160       18  Lender damaged or destroyed property\n",
      "80        18                     Property was sold 4\n",
      "     Cluster                                    Issue\n",
      "119       19                                  Rewards\n",
      "77        19  Overdraft, savings, or rewards features\n",
      "155       19   Overdraft, savings or rewards features 3\n",
      "    Cluster                                              Issue\n",
      "28       20  Applying for a mortgage or refinancing an exis...\n",
      "66       20                            Applying for a mortgage\n",
      "88       20           Application, originator, mortgage broker 4\n",
      "     Cluster                                 Issue\n",
      "92        21    Dealing with my lender or servicer\n",
      "112       21                  Can't contact lender\n",
      "23        21  Dealing with your lender or servicer 4\n",
      "     Cluster                                         Issue\n",
      "133       22        Lender repossessed or sold the vehicle\n",
      "68        22  Vehicle was damaged or destroyed the vehicle\n",
      "48        22   Vehicle was repossessed or sold the vehicle 4\n",
      "    Cluster                                              Issue\n",
      "44       23              Money was not available when promised\n",
      "43       23  Threatened to contact someone or share informa...\n",
      "36       23                               Problem adding money 31\n",
      "     Cluster                                              Issue\n",
      "108       24           Credit card protection / Debt protection\n",
      "102       24           Credit monitoring or identity protection\n",
      "56        24  Identity theft protection or other monitoring ... 4\n",
      "     Cluster                      Issue\n",
      "74        25  Problem with cash advance\n",
      "156       25           Cash advance fee\n",
      "158       25               Cash advance 3\n",
      "     Cluster                                              Issue\n",
      "65        26  Was approved for a loan, but didn't receive money\n",
      "61        26  Was approved for a loan, but didn't receive th...\n",
      "129       26             Applied for loan/did not receive money 3\n",
      "    Cluster                      Issue\n",
      "82       27  Using a debit or ATM card\n",
      "59       27     Trouble using the card\n",
      "39       27    Trouble using your card 3\n",
      "     Cluster                                              Issue\n",
      "71        28  Money was taken from your bank account on the ...\n",
      "64        28                   Wrong amount charged or received\n",
      "137       28                 Charged bank acct wrong day or amt 3\n",
      "    Cluster                                              Issue\n",
      "93       29           Credit reporting company's investigation\n",
      "27       29  Problem with a company's investigation into an...\n",
      "5        29  Problem with a credit reporting company's inve... 4\n"
     ]
    }
   ],
   "source": [
    "for cluster in range(30):\n",
    "    print(cluster_df.loc[cluster_df['Cluster'] == cluster].head(3), \n",
    "          len(cluster_df.loc[cluster_df['Cluster'] == cluster]))"
   ]
  },
  {
   "cell_type": "code",
   "execution_count": 137,
   "metadata": {},
   "outputs": [],
   "source": [
    "df = master_df.merge(cluster_df, how='inner', on='Issue')"
   ]
  },
  {
   "cell_type": "code",
   "execution_count": 140,
   "metadata": {},
   "outputs": [],
   "source": [
    "proc_df = df.dropna(subset=['Consumer complaint narrative'])"
   ]
  },
  {
   "cell_type": "code",
   "execution_count": 146,
   "metadata": {
    "collapsed": true
   },
   "outputs": [
    {
     "data": {
      "text/plain": [
       "23    160250\n",
       "17     42307\n",
       "29     39547\n",
       "6      32912\n",
       "4      23991\n",
       "2      17850\n",
       "21     16810\n",
       "14     15301\n",
       "7      11567\n",
       "3      10790\n",
       "5      10467\n",
       "10     10359\n",
       "20      8819\n",
       "12      7654\n",
       "8       7421\n",
       "0       6964\n",
       "24      3924\n",
       "9       3615\n",
       "16      3498\n",
       "11      3187\n",
       "27      3074\n",
       "15      1818\n",
       "13      1355\n",
       "19       928\n",
       "28       413\n",
       "1        348\n",
       "26       156\n",
       "22       149\n",
       "25       107\n",
       "18         9\n",
       "Name: Cluster, dtype: int64"
      ]
     },
     "execution_count": 146,
     "metadata": {},
     "output_type": "execute_result"
    }
   ],
   "source": [
    "proc_df['Cluster'].value_counts()"
   ]
  },
  {
   "cell_type": "code",
   "execution_count": 278,
   "metadata": {},
   "outputs": [],
   "source": [
    "cluster_nar_join = {}\n",
    "\n",
    "for cluster in proc_df['Cluster'].unique():\n",
    "    try:\n",
    "        nar_join = ' '.join(proc_df[proc_df['Cluster']==cluster]['Consumer complaint narrative'].sample(100))\n",
    "        nar_join = [re.sub('[^A-Za-z]+', ' ', word) for word in nar_join.split()]\n",
    "        nar_join = ' '.join(nar_join)\n",
    "    except:\n",
    "        nar_join = ' '.join(proc_df[proc_df['Cluster']==cluster]['Consumer complaint narrative'].sample(9))\n",
    "        nar_join = [re.sub('[^A-Za-z]+', ' ', word) for word in nar_join.split()]\n",
    "        nar_join = ' '.join(nar_join)\n",
    "        \n",
    "    cluster_nar_join[cluster] = nar_join"
   ]
  },
  {
   "cell_type": "code",
   "execution_count": 279,
   "metadata": {
    "scrolled": true
   },
   "outputs": [],
   "source": [
    "new_vec = TfidfVectorizer(stop_words='english')\n",
    "\n",
    "new_response = new_vec.fit_transform(cluster_nar_join.values())\n",
    "\n",
    "new_vec_df = pd.DataFrame(new_response.toarray(), columns=new_vec.get_feature_names())"
   ]
  },
  {
   "cell_type": "code",
   "execution_count": 280,
   "metadata": {},
   "outputs": [],
   "source": [
    "new_vec_df = new_vec_df.drop(['xxxx', 'xx'], axis=1)\n",
    "\n",
    "labels = new_vec_df.idxmax(axis=1)"
   ]
  },
  {
   "cell_type": "code",
   "execution_count": 281,
   "metadata": {},
   "outputs": [],
   "source": [
    "labels = list(labels)"
   ]
  },
  {
   "cell_type": "code",
   "execution_count": 282,
   "metadata": {},
   "outputs": [],
   "source": [
    "cluster_dict = {}\n",
    "\n",
    "for cluster in proc_df['Cluster'].unique():\n",
    "    \n",
    "    try:\n",
    "        narrative_list = list(proc_df[proc_df['Cluster']==cluster]['Consumer complaint narrative'].sample(100))\n",
    "    except:\n",
    "        narrative_list = list(proc_df[proc_df['Cluster']==cluster]['Consumer complaint narrative'].sample(9))\n",
    "    \n",
    "    narrative_assess = []\n",
    "    \n",
    "    for narrative in narrative_list:\n",
    "        blob = TextBlob(narrative)\n",
    "        polarity = blob.sentiment.polarity\n",
    "        subjectivity = blob.sentiment.subjectivity\n",
    "        narrative_assess.append((polarity, subjectivity))\n",
    "    \n",
    "    cluster_dict[cluster] = narrative_assess"
   ]
  },
  {
   "cell_type": "code",
   "execution_count": 283,
   "metadata": {},
   "outputs": [],
   "source": [
    "clust_results = {}\n",
    "\n",
    "for cluster in cluster_dict.keys():\n",
    "    \n",
    "    polarity_list = []\n",
    "    subjectivity_list = []\n",
    "    \n",
    "    for pair in cluster_dict[cluster]:\n",
    "        \n",
    "        polarity_list.append(pair[0])\n",
    "        subjectivity_list.append(pair[1])\n",
    "        \n",
    "    mean_polarity = np.mean(polarity_list)\n",
    "    std_polarity = np.std(polarity_list)\n",
    "    mean_subj = np.mean(subjectivity_list)\n",
    "    std_subj = np.std(subjectivity_list)\n",
    "    \n",
    "    clust_results[cluster] = ((mean_polarity, std_polarity), (mean_subj, std_subj))"
   ]
  },
  {
   "cell_type": "code",
   "execution_count": 284,
   "metadata": {},
   "outputs": [],
   "source": [
    "clust_results = list(sorted(clust_results.items(), reverse=False))"
   ]
  },
  {
   "cell_type": "code",
   "execution_count": 286,
   "metadata": {},
   "outputs": [],
   "source": [
    "pol_mean_list = [tuplet[1][0][0] for tuplet in clust_results]\n",
    "\n",
    "pol_std_list = [tuplet[1][0][1] for tuplet in clust_results]\n",
    "\n",
    "subj_mean_list = [tuplet[1][1][0] for tuplet in clust_results]\n",
    "\n",
    "subj_std_list = [tuplet[1][1][1] for tuplet in clust_results]"
   ]
  },
  {
   "cell_type": "code",
   "execution_count": 287,
   "metadata": {
    "scrolled": false
   },
   "outputs": [
    {
     "data": {
      "image/png": "[encoded data removed]",
      "text/plain": [
       "<Figure size 432x288 with 1 Axes>"
      ]
     },
     "metadata": {},
     "output_type": "display_data"
    }
   ],
   "source": [
    "x = list(labels)\n",
    "\n",
    "y = pol_mean_list\n",
    "\n",
    "e = pol_std_list\n",
    "\n",
    "plt.style.use('seaborn-whitegrid')\n",
    "\n",
    "plt.errorbar(y, x, xerr=e, linestyle='', marker='o')\n",
    "\n",
    "plt.show()"
   ]
  },
  {
   "cell_type": "code",
   "execution_count": 288,
   "metadata": {},
   "outputs": [
    {
     "data": {
      "image/png": "[encoded data removed]",
      "text/plain": [
       "<Figure size 432x288 with 1 Axes>"
      ]
     },
     "metadata": {},
     "output_type": "display_data"
    }
   ],
   "source": [
    "x = labels\n",
    "\n",
    "y = subj_mean_list\n",
    "\n",
    "e = subj_std_list\n",
    "\n",
    "plt.errorbar(y, x, xerr=e, linestyle='', marker='o')\n",
    "\n",
    "plt.show()"
   ]
  },
  {
   "cell_type": "code",
   "execution_count": null,
   "metadata": {},
   "outputs": [],
   "source": []
  }
 ],
 "metadata": {
  "kernelspec": {
   "display_name": "Python 3",
   "language": "python",
   "name": "python3"
  },
  "language_info": {
   "codemirror_mode": {
    "name": "ipython",
    "version": 3
   },
   "file_extension": ".py",
   "mimetype": "text/x-python",
   "name": "python",
   "nbconvert_exporter": "python",
   "pygments_lexer": "ipython3",
   "version": "3.7.1"
  }
 },
 "nbformat": 4,
 "nbformat_minor": 2
}
